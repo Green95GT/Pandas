{
 "metadata": {
  "name": "",
  "signature": "sha256:7a97bee0f64cf7e8f30b8d8e401a80f4b37e469e7d1fe00aa81cd71aa1177892"
 },
 "nbformat": 3,
 "nbformat_minor": 0,
 "worksheets": [
  {
   "cells": [
    {
     "cell_type": "code",
     "collapsed": false,
     "input": [
      "# Import libraries\n",
      "import pandas as pd\n",
      "import matplotlib.pyplot as plt\n",
      "import numpy.random as np\n",
      "import sys\n",
      "import matplotlib\n",
      "\n",
      "%matplotlib inline"
     ],
     "language": "python",
     "metadata": {},
     "outputs": [],
     "prompt_number": 172
    },
    {
     "cell_type": "code",
     "collapsed": false,
     "input": [
      "print('Python version ' + sys.version)\n",
      "print('Pandas version: ' + pd.__version__)\n",
      "print('Matplotlib version ' + matplotlib.__version__)"
     ],
     "language": "python",
     "metadata": {},
     "outputs": [
      {
       "output_type": "stream",
       "stream": "stdout",
       "text": [
        "Python version 3.5.2 (default, Nov 23 2017, 16:37:01) \n",
        "[GCC 5.4.0 20160609]\n",
        "Pandas version: 0.17.1\n",
        "Matplotlib version 1.5.1\n"
       ]
      }
     ],
     "prompt_number": 173
    },
    {
     "cell_type": "code",
     "collapsed": false,
     "input": [
      "pd.date_range?"
     ],
     "language": "python",
     "metadata": {},
     "outputs": [],
     "prompt_number": 174
    },
    {
     "cell_type": "code",
     "collapsed": false,
     "input": [
      "# Create a weekly (mondays) date range\n",
      "rng = pd.date_range(start='1/1/2009', end='12/31/2012', freq='W-MON')"
     ],
     "language": "python",
     "metadata": {},
     "outputs": [],
     "prompt_number": 175
    },
    {
     "cell_type": "code",
     "collapsed": false,
     "input": [
      "rng"
     ],
     "language": "python",
     "metadata": {},
     "outputs": [
      {
       "metadata": {},
       "output_type": "pyout",
       "prompt_number": 176,
       "text": [
        "DatetimeIndex(['2009-01-05', '2009-01-12', '2009-01-19', '2009-01-26',\n",
        "               '2009-02-02', '2009-02-09', '2009-02-16', '2009-02-23',\n",
        "               '2009-03-02', '2009-03-09',\n",
        "               ...\n",
        "               '2012-10-29', '2012-11-05', '2012-11-12', '2012-11-19',\n",
        "               '2012-11-26', '2012-12-03', '2012-12-10', '2012-12-17',\n",
        "               '2012-12-24', '2012-12-31'],\n",
        "              dtype='datetime64[ns]', length=209, freq='W-MON')"
       ]
      }
     ],
     "prompt_number": 176
    },
    {
     "cell_type": "code",
     "collapsed": false,
     "input": [
      "np.randint?"
     ],
     "language": "python",
     "metadata": {},
     "outputs": [],
     "prompt_number": 177
    },
    {
     "cell_type": "code",
     "collapsed": false,
     "input": [
      "# Create random data\n",
      "data = np.randint(low=25,high=1000,size=len(rng))"
     ],
     "language": "python",
     "metadata": {},
     "outputs": [],
     "prompt_number": 178
    },
    {
     "cell_type": "code",
     "collapsed": false,
     "input": [
      "data"
     ],
     "language": "python",
     "metadata": {},
     "outputs": [
      {
       "metadata": {},
       "output_type": "pyout",
       "prompt_number": 179,
       "text": [
        "array([973, 412, 252, 443, 849,  93, 631, 586, 406, 290, 889, 114, 450,\n",
        "       299, 352, 695, 299, 683, 262, 425, 465, 913, 940, 189, 551,  56,\n",
        "       814, 497, 697, 496, 433, 580, 926, 567, 400, 284, 916,  61, 813,\n",
        "       277, 864, 205, 567, 217,  26, 846, 476, 992, 610, 993, 104, 806,\n",
        "       328, 194, 253, 988, 192, 388, 448, 375, 988, 613, 355, 540, 106,\n",
        "       174, 977, 541, 848, 493, 566, 990, 841, 673, 641, 621, 839, 304,\n",
        "       185, 331, 962, 367, 976, 216, 169, 954, 606,  70, 146, 159, 446,\n",
        "       770, 869, 662, 963, 806, 224, 752, 732, 822, 957,  82, 191, 799,\n",
        "       136, 295, 489, 634, 886, 130, 910,  53, 293, 702, 674, 231, 819,\n",
        "       916, 230, 766, 236,  60, 144, 129, 300, 454, 797, 217,  35, 249,\n",
        "       198, 691, 762, 580, 505, 496, 529, 605, 270, 448, 958,  58, 458,\n",
        "       578, 863, 482, 582, 358, 872, 365, 533, 637, 745, 387, 689, 440,\n",
        "       371, 153, 976, 359, 899, 764, 747, 694,  58,  76, 813, 993, 935,\n",
        "        57, 269, 548, 593, 838, 747, 301,  67, 605, 184,  45, 449, 384,\n",
        "       984, 197, 776, 307, 964, 794,  83, 592, 471, 576, 916, 688, 507,\n",
        "       627, 918, 253, 903, 217, 900, 103, 196, 396, 696, 558, 147, 516, 916])"
       ]
      }
     ],
     "prompt_number": 179
    },
    {
     "cell_type": "code",
     "collapsed": false,
     "input": [
      "# Status pool\n",
      "status = [1,2,3]"
     ],
     "language": "python",
     "metadata": {},
     "outputs": [],
     "prompt_number": 180
    },
    {
     "cell_type": "code",
     "collapsed": false,
     "input": [
      "# Make a random list of statuses the length of rng. The values will be in the following range (0,3] pulling from status[0]..status[2]\n",
      "random_status = [status[np.randint(low=0,high=len(status))] for i in range(len(rng))]"
     ],
     "language": "python",
     "metadata": {},
     "outputs": [],
     "prompt_number": 181
    },
    {
     "cell_type": "code",
     "collapsed": false,
     "input": [
      "random_status"
     ],
     "language": "python",
     "metadata": {},
     "outputs": [
      {
       "metadata": {},
       "output_type": "pyout",
       "prompt_number": 182,
       "text": [
        "[1,\n",
        " 1,\n",
        " 2,\n",
        " 2,\n",
        " 1,\n",
        " 2,\n",
        " 2,\n",
        " 3,\n",
        " 1,\n",
        " 1,\n",
        " 2,\n",
        " 1,\n",
        " 3,\n",
        " 1,\n",
        " 2,\n",
        " 2,\n",
        " 1,\n",
        " 1,\n",
        " 3,\n",
        " 2,\n",
        " 2,\n",
        " 1,\n",
        " 1,\n",
        " 3,\n",
        " 1,\n",
        " 1,\n",
        " 1,\n",
        " 3,\n",
        " 2,\n",
        " 3,\n",
        " 2,\n",
        " 2,\n",
        " 2,\n",
        " 2,\n",
        " 2,\n",
        " 3,\n",
        " 3,\n",
        " 3,\n",
        " 1,\n",
        " 1,\n",
        " 1,\n",
        " 2,\n",
        " 2,\n",
        " 1,\n",
        " 1,\n",
        " 3,\n",
        " 3,\n",
        " 2,\n",
        " 2,\n",
        " 3,\n",
        " 3,\n",
        " 3,\n",
        " 3,\n",
        " 1,\n",
        " 2,\n",
        " 1,\n",
        " 2,\n",
        " 3,\n",
        " 3,\n",
        " 3,\n",
        " 2,\n",
        " 2,\n",
        " 2,\n",
        " 2,\n",
        " 3,\n",
        " 1,\n",
        " 1,\n",
        " 3,\n",
        " 1,\n",
        " 2,\n",
        " 3,\n",
        " 3,\n",
        " 1,\n",
        " 2,\n",
        " 3,\n",
        " 2,\n",
        " 1,\n",
        " 3,\n",
        " 2,\n",
        " 1,\n",
        " 1,\n",
        " 3,\n",
        " 1,\n",
        " 3,\n",
        " 1,\n",
        " 3,\n",
        " 2,\n",
        " 2,\n",
        " 2,\n",
        " 2,\n",
        " 2,\n",
        " 3,\n",
        " 2,\n",
        " 2,\n",
        " 3,\n",
        " 3,\n",
        " 3,\n",
        " 2,\n",
        " 1,\n",
        " 3,\n",
        " 1,\n",
        " 1,\n",
        " 1,\n",
        " 1,\n",
        " 3,\n",
        " 2,\n",
        " 2,\n",
        " 3,\n",
        " 1,\n",
        " 3,\n",
        " 1,\n",
        " 1,\n",
        " 2,\n",
        " 2,\n",
        " 2,\n",
        " 2,\n",
        " 2,\n",
        " 3,\n",
        " 3,\n",
        " 2,\n",
        " 3,\n",
        " 3,\n",
        " 2,\n",
        " 2,\n",
        " 2,\n",
        " 1,\n",
        " 3,\n",
        " 3,\n",
        " 1,\n",
        " 2,\n",
        " 2,\n",
        " 3,\n",
        " 2,\n",
        " 1,\n",
        " 3,\n",
        " 2,\n",
        " 1,\n",
        " 3,\n",
        " 3,\n",
        " 1,\n",
        " 3,\n",
        " 2,\n",
        " 1,\n",
        " 1,\n",
        " 1,\n",
        " 3,\n",
        " 2,\n",
        " 2,\n",
        " 2,\n",
        " 1,\n",
        " 3,\n",
        " 2,\n",
        " 3,\n",
        " 1,\n",
        " 3,\n",
        " 3,\n",
        " 1,\n",
        " 1,\n",
        " 1,\n",
        " 2,\n",
        " 2,\n",
        " 3,\n",
        " 1,\n",
        " 1,\n",
        " 3,\n",
        " 3,\n",
        " 2,\n",
        " 1,\n",
        " 2,\n",
        " 1,\n",
        " 3,\n",
        " 3,\n",
        " 3,\n",
        " 2,\n",
        " 3,\n",
        " 1,\n",
        " 3,\n",
        " 1,\n",
        " 2,\n",
        " 1,\n",
        " 3,\n",
        " 1,\n",
        " 1,\n",
        " 1,\n",
        " 1,\n",
        " 1,\n",
        " 3,\n",
        " 1,\n",
        " 1,\n",
        " 3,\n",
        " 1,\n",
        " 2,\n",
        " 3,\n",
        " 1,\n",
        " 3,\n",
        " 1,\n",
        " 3,\n",
        " 1,\n",
        " 3,\n",
        " 1,\n",
        " 2,\n",
        " 3,\n",
        " 1,\n",
        " 3,\n",
        " 2,\n",
        " 1,\n",
        " 2,\n",
        " 3,\n",
        " 1]"
       ]
      }
     ],
     "prompt_number": 182
    },
    {
     "cell_type": "code",
     "collapsed": false,
     "input": [
      "# If you keep on running this cell over and over you shall see the values given will only be a 1,2, or 3 \n",
      "# Replacing high with len(states)-1 or high=2 the value 3 from the list will never be chosed. \n",
      "# So the parameter of np.randint go like [low,high)\n",
      "status[np.randint(low=0,high=len(status))]"
     ],
     "language": "python",
     "metadata": {},
     "outputs": [
      {
       "metadata": {},
       "output_type": "pyout",
       "prompt_number": 183,
       "text": [
        "3"
       ]
      }
     ],
     "prompt_number": 183
    },
    {
     "cell_type": "code",
     "collapsed": false,
     "input": [
      "# State pool\n",
      "states = ['GA','FL','fl','NY','NJ','TX']"
     ],
     "language": "python",
     "metadata": {},
     "outputs": [],
     "prompt_number": 184
    },
    {
     "cell_type": "code",
     "collapsed": false,
     "input": [
      "len(states)"
     ],
     "language": "python",
     "metadata": {},
     "outputs": [
      {
       "metadata": {},
       "output_type": "pyout",
       "prompt_number": 185,
       "text": [
        "6"
       ]
      }
     ],
     "prompt_number": 185
    },
    {
     "cell_type": "code",
     "collapsed": false,
     "input": [
      "# If you keep on running this cell over and over you shall see the values given will only be the elements of the list called states \n",
      "# Replacing high with len(states)-1 or high=5 'TX' will never be chosed. So the parameter of np.randint go like [low,high)\n",
      "states[np.randint(low=0,high=len(states))]"
     ],
     "language": "python",
     "metadata": {},
     "outputs": [
      {
       "metadata": {},
       "output_type": "pyout",
       "prompt_number": 186,
       "text": [
        "'NY'"
       ]
      }
     ],
     "prompt_number": 186
    },
    {
     "cell_type": "code",
     "collapsed": false,
     "input": [
      "# Make a random list of states the length of rng. The values will be the one of the elements in the list called states pulling from\n",
      "# the range of elements states[0]..states[5]]\n",
      "random_states = [states[np.randint(low=0,high=len(states))] for i in range(len(rng))]"
     ],
     "language": "python",
     "metadata": {},
     "outputs": [],
     "prompt_number": 187
    },
    {
     "cell_type": "code",
     "collapsed": false,
     "input": [
      "random_states"
     ],
     "language": "python",
     "metadata": {},
     "outputs": [
      {
       "metadata": {},
       "output_type": "pyout",
       "prompt_number": 188,
       "text": [
        "['NJ',\n",
        " 'GA',\n",
        " 'fl',\n",
        " 'fl',\n",
        " 'NY',\n",
        " 'NJ',\n",
        " 'NJ',\n",
        " 'GA',\n",
        " 'GA',\n",
        " 'FL',\n",
        " 'GA',\n",
        " 'NY',\n",
        " 'GA',\n",
        " 'fl',\n",
        " 'NJ',\n",
        " 'FL',\n",
        " 'TX',\n",
        " 'FL',\n",
        " 'GA',\n",
        " 'fl',\n",
        " 'fl',\n",
        " 'NY',\n",
        " 'FL',\n",
        " 'NY',\n",
        " 'TX',\n",
        " 'NY',\n",
        " 'NJ',\n",
        " 'TX',\n",
        " 'fl',\n",
        " 'FL',\n",
        " 'NJ',\n",
        " 'NY',\n",
        " 'NY',\n",
        " 'NJ',\n",
        " 'TX',\n",
        " 'FL',\n",
        " 'TX',\n",
        " 'GA',\n",
        " 'GA',\n",
        " 'NJ',\n",
        " 'FL',\n",
        " 'TX',\n",
        " 'NJ',\n",
        " 'NJ',\n",
        " 'FL',\n",
        " 'GA',\n",
        " 'FL',\n",
        " 'FL',\n",
        " 'GA',\n",
        " 'FL',\n",
        " 'TX',\n",
        " 'NY',\n",
        " 'FL',\n",
        " 'NY',\n",
        " 'TX',\n",
        " 'TX',\n",
        " 'TX',\n",
        " 'NJ',\n",
        " 'TX',\n",
        " 'NJ',\n",
        " 'NY',\n",
        " 'TX',\n",
        " 'GA',\n",
        " 'GA',\n",
        " 'fl',\n",
        " 'fl',\n",
        " 'FL',\n",
        " 'GA',\n",
        " 'GA',\n",
        " 'fl',\n",
        " 'fl',\n",
        " 'FL',\n",
        " 'NY',\n",
        " 'NY',\n",
        " 'NJ',\n",
        " 'NY',\n",
        " 'GA',\n",
        " 'FL',\n",
        " 'NY',\n",
        " 'TX',\n",
        " 'FL',\n",
        " 'TX',\n",
        " 'NY',\n",
        " 'fl',\n",
        " 'TX',\n",
        " 'FL',\n",
        " 'NJ',\n",
        " 'NJ',\n",
        " 'NJ',\n",
        " 'TX',\n",
        " 'fl',\n",
        " 'NJ',\n",
        " 'FL',\n",
        " 'FL',\n",
        " 'TX',\n",
        " 'FL',\n",
        " 'GA',\n",
        " 'TX',\n",
        " 'fl',\n",
        " 'NY',\n",
        " 'FL',\n",
        " 'GA',\n",
        " 'GA',\n",
        " 'FL',\n",
        " 'fl',\n",
        " 'NJ',\n",
        " 'GA',\n",
        " 'NY',\n",
        " 'NJ',\n",
        " 'NJ',\n",
        " 'fl',\n",
        " 'NY',\n",
        " 'NY',\n",
        " 'NJ',\n",
        " 'TX',\n",
        " 'FL',\n",
        " 'FL',\n",
        " 'NY',\n",
        " 'FL',\n",
        " 'TX',\n",
        " 'FL',\n",
        " 'TX',\n",
        " 'NY',\n",
        " 'NJ',\n",
        " 'fl',\n",
        " 'fl',\n",
        " 'NJ',\n",
        " 'NJ',\n",
        " 'TX',\n",
        " 'NY',\n",
        " 'TX',\n",
        " 'fl',\n",
        " 'TX',\n",
        " 'fl',\n",
        " 'TX',\n",
        " 'GA',\n",
        " 'NY',\n",
        " 'FL',\n",
        " 'NY',\n",
        " 'fl',\n",
        " 'TX',\n",
        " 'TX',\n",
        " 'FL',\n",
        " 'TX',\n",
        " 'fl',\n",
        " 'FL',\n",
        " 'fl',\n",
        " 'FL',\n",
        " 'NY',\n",
        " 'NY',\n",
        " 'FL',\n",
        " 'TX',\n",
        " 'GA',\n",
        " 'FL',\n",
        " 'NY',\n",
        " 'GA',\n",
        " 'NJ',\n",
        " 'GA',\n",
        " 'TX',\n",
        " 'GA',\n",
        " 'NY',\n",
        " 'NY',\n",
        " 'fl',\n",
        " 'fl',\n",
        " 'NY',\n",
        " 'NY',\n",
        " 'GA',\n",
        " 'fl',\n",
        " 'GA',\n",
        " 'NJ',\n",
        " 'fl',\n",
        " 'TX',\n",
        " 'FL',\n",
        " 'GA',\n",
        " 'NJ',\n",
        " 'NJ',\n",
        " 'NY',\n",
        " 'NJ',\n",
        " 'NY',\n",
        " 'NJ',\n",
        " 'NY',\n",
        " 'GA',\n",
        " 'TX',\n",
        " 'fl',\n",
        " 'FL',\n",
        " 'NJ',\n",
        " 'NY',\n",
        " 'GA',\n",
        " 'NY',\n",
        " 'FL',\n",
        " 'NY',\n",
        " 'TX',\n",
        " 'GA',\n",
        " 'FL',\n",
        " 'NJ',\n",
        " 'FL',\n",
        " 'fl',\n",
        " 'GA',\n",
        " 'FL',\n",
        " 'GA',\n",
        " 'TX',\n",
        " 'GA',\n",
        " 'TX',\n",
        " 'NY',\n",
        " 'NJ',\n",
        " 'NJ',\n",
        " 'fl',\n",
        " 'TX',\n",
        " 'FL']"
       ]
      }
     ],
     "prompt_number": 188
    },
    {
     "cell_type": "code",
     "collapsed": false,
     "input": [
      "# Previous cells were basically each line of the following funciton broken down so as to see in full detail how each command, or line in\n",
      "# the function operates. Of course this funciton brings everything together to operate in tandem upon the functions call \n",
      "\n",
      "# set seed\n",
      "np.seed(111)\n",
      "\n",
      "# Function to generate test data\n",
      "def CreateDataSet(Number=1):\n",
      "    \n",
      "    Output = []\n",
      "    \n",
      "    for i in range(Number):\n",
      "        \n",
      "        # Create a weekly (mondays) date range\n",
      "        rng = pd.date_range(start='1/1/2009', end='12/31/2012', freq='W-MON')\n",
      "        \n",
      "        # Create random data\n",
      "        data = np.randint(low=25,high=1000,size=len(rng))\n",
      "        \n",
      "        # Status pool\n",
      "        status = [1,2,3]\n",
      "        \n",
      "        # Make a random list of statuses\n",
      "        random_status = [status[np.randint(low=0,high=len(status))] for i in range(len(rng))]\n",
      "        \n",
      "        # State pool\n",
      "        states = ['GA','FL','fl','NY','NJ','TX']\n",
      "        \n",
      "        # Make a random list of states \n",
      "        random_states = [states[np.randint(low=0,high=len(states))] for i in range(len(rng))]\n",
      "    \n",
      "        Output.extend(zip(random_states, random_status, data, rng))\n",
      "        \n",
      "    return Output"
     ],
     "language": "python",
     "metadata": {},
     "outputs": [],
     "prompt_number": 189
    },
    {
     "cell_type": "code",
     "collapsed": false,
     "input": [
      "# The following command creates 4 sets of all the commands synthesized in the function  \n",
      "dataset = CreateDataSet(4)\n",
      "\n",
      "# Next is the creation of a pandas datafame complete with a header\n",
      "df = pd.DataFrame(data=dataset, columns=['State','Status','CustomerCount','StatusDate'])\n",
      "\n",
      "# This will give loads of pertinent information about the dataframe just created. Recall len(rng) is 209 so 209*4 is 836!\n",
      "# And four columns exist for rng, data, random status, and random_states created in the function \n",
      "df.info()"
     ],
     "language": "python",
     "metadata": {},
     "outputs": [
      {
       "output_type": "stream",
       "stream": "stdout",
       "text": [
        "<class 'pandas.core.frame.DataFrame'>\n",
        "Int64Index: 836 entries, 0 to 835\n",
        "Data columns (total 4 columns):\n",
        "State            836 non-null object\n",
        "Status           836 non-null int64\n",
        "CustomerCount    836 non-null int64\n",
        "StatusDate       836 non-null datetime64[ns]\n",
        "dtypes: datetime64[ns](1), int64(2), object(1)\n",
        "memory usage: 32.7+ KB\n"
       ]
      }
     ],
     "prompt_number": 190
    },
    {
     "cell_type": "code",
     "collapsed": false,
     "input": [
      "# Just looking at the first five entries of the data frame\n",
      "df.head()"
     ],
     "language": "python",
     "metadata": {},
     "outputs": [
      {
       "html": [
        "<div style=\"max-width:1500px;overflow:auto;\">\n",
        "<table border=\"1\" class=\"dataframe\">\n",
        "  <thead>\n",
        "    <tr style=\"text-align: right;\">\n",
        "      <th></th>\n",
        "      <th>State</th>\n",
        "      <th>Status</th>\n",
        "      <th>CustomerCount</th>\n",
        "      <th>StatusDate</th>\n",
        "    </tr>\n",
        "  </thead>\n",
        "  <tbody>\n",
        "    <tr>\n",
        "      <th>0</th>\n",
        "      <td>GA</td>\n",
        "      <td>1</td>\n",
        "      <td>877</td>\n",
        "      <td>2009-01-05</td>\n",
        "    </tr>\n",
        "    <tr>\n",
        "      <th>1</th>\n",
        "      <td>FL</td>\n",
        "      <td>1</td>\n",
        "      <td>901</td>\n",
        "      <td>2009-01-12</td>\n",
        "    </tr>\n",
        "    <tr>\n",
        "      <th>2</th>\n",
        "      <td>fl</td>\n",
        "      <td>3</td>\n",
        "      <td>749</td>\n",
        "      <td>2009-01-19</td>\n",
        "    </tr>\n",
        "    <tr>\n",
        "      <th>3</th>\n",
        "      <td>FL</td>\n",
        "      <td>3</td>\n",
        "      <td>111</td>\n",
        "      <td>2009-01-26</td>\n",
        "    </tr>\n",
        "    <tr>\n",
        "      <th>4</th>\n",
        "      <td>GA</td>\n",
        "      <td>1</td>\n",
        "      <td>300</td>\n",
        "      <td>2009-02-02</td>\n",
        "    </tr>\n",
        "  </tbody>\n",
        "</table>\n",
        "</div>"
       ],
       "metadata": {},
       "output_type": "pyout",
       "prompt_number": 191,
       "text": [
        "  State  Status  CustomerCount StatusDate\n",
        "0    GA       1            877 2009-01-05\n",
        "1    FL       1            901 2009-01-12\n",
        "2    fl       3            749 2009-01-19\n",
        "3    FL       3            111 2009-01-26\n",
        "4    GA       1            300 2009-02-02"
       ]
      }
     ],
     "prompt_number": 191
    },
    {
     "cell_type": "code",
     "collapsed": false,
     "input": [
      "# Save results to excel. Note: needed to install openpyxl using the following command in Ubuntu-> sudo apt-get install python3-openpyxl\n",
      "df.to_excel('Lesson3.xlsx', index=False)\n",
      "print('Done')"
     ],
     "language": "python",
     "metadata": {},
     "outputs": [
      {
       "output_type": "stream",
       "stream": "stdout",
       "text": [
        "Done\n"
       ]
      }
     ],
     "prompt_number": 192
    },
    {
     "cell_type": "code",
     "collapsed": false,
     "input": [
      "pd.read_excel?"
     ],
     "language": "python",
     "metadata": {},
     "outputs": [],
     "prompt_number": 193
    },
    {
     "cell_type": "code",
     "collapsed": false,
     "input": [
      "# Location of file. Since I am running ipython notebook from the folder the file exists in I am not including the full path from the C\n",
      "# drive with the quotations in Location\n",
      "\n",
      "# Had to install xlrd in Ubuntu using the following command: sudo apt-get install python3-xlrd\n",
      "Location = r'Lesson3.xlsx'\n",
      "\n",
      "# Parse a specific sheet. Pulling StatusDate column only\n",
      "df = pd.read_excel(Location, 0, index_col='StatusDate')\n",
      "df.dtypes"
     ],
     "language": "python",
     "metadata": {},
     "outputs": [
      {
       "metadata": {},
       "output_type": "pyout",
       "prompt_number": 194,
       "text": [
        "State            object\n",
        "Status            int64\n",
        "CustomerCount     int64\n",
        "dtype: object"
       ]
      }
     ],
     "prompt_number": 194
    },
    {
     "cell_type": "code",
     "collapsed": false,
     "input": [
      "df.index"
     ],
     "language": "python",
     "metadata": {},
     "outputs": [
      {
       "metadata": {},
       "output_type": "pyout",
       "prompt_number": 195,
       "text": [
        "DatetimeIndex(['2009-01-05', '2009-01-12', '2009-01-19', '2009-01-26',\n",
        "               '2009-02-02', '2009-02-09', '2009-02-16', '2009-02-23',\n",
        "               '2009-03-02', '2009-03-09',\n",
        "               ...\n",
        "               '2012-10-29', '2012-11-05', '2012-11-12', '2012-11-19',\n",
        "               '2012-11-26', '2012-12-03', '2012-12-10', '2012-12-17',\n",
        "               '2012-12-24', '2012-12-31'],\n",
        "              dtype='datetime64[ns]', name='StatusDate', length=836, freq=None)"
       ]
      }
     ],
     "prompt_number": 195
    },
    {
     "cell_type": "code",
     "collapsed": false,
     "input": [
      "df.head()"
     ],
     "language": "python",
     "metadata": {},
     "outputs": [
      {
       "html": [
        "<div style=\"max-width:1500px;overflow:auto;\">\n",
        "<table border=\"1\" class=\"dataframe\">\n",
        "  <thead>\n",
        "    <tr style=\"text-align: right;\">\n",
        "      <th></th>\n",
        "      <th>State</th>\n",
        "      <th>Status</th>\n",
        "      <th>CustomerCount</th>\n",
        "    </tr>\n",
        "    <tr>\n",
        "      <th>StatusDate</th>\n",
        "      <th></th>\n",
        "      <th></th>\n",
        "      <th></th>\n",
        "    </tr>\n",
        "  </thead>\n",
        "  <tbody>\n",
        "    <tr>\n",
        "      <th>2009-01-05</th>\n",
        "      <td>GA</td>\n",
        "      <td>1</td>\n",
        "      <td>877</td>\n",
        "    </tr>\n",
        "    <tr>\n",
        "      <th>2009-01-12</th>\n",
        "      <td>FL</td>\n",
        "      <td>1</td>\n",
        "      <td>901</td>\n",
        "    </tr>\n",
        "    <tr>\n",
        "      <th>2009-01-19</th>\n",
        "      <td>fl</td>\n",
        "      <td>3</td>\n",
        "      <td>749</td>\n",
        "    </tr>\n",
        "    <tr>\n",
        "      <th>2009-01-26</th>\n",
        "      <td>FL</td>\n",
        "      <td>3</td>\n",
        "      <td>111</td>\n",
        "    </tr>\n",
        "    <tr>\n",
        "      <th>2009-02-02</th>\n",
        "      <td>GA</td>\n",
        "      <td>1</td>\n",
        "      <td>300</td>\n",
        "    </tr>\n",
        "  </tbody>\n",
        "</table>\n",
        "</div>"
       ],
       "metadata": {},
       "output_type": "pyout",
       "prompt_number": 196,
       "text": [
        "           State  Status  CustomerCount\n",
        "StatusDate                             \n",
        "2009-01-05    GA       1            877\n",
        "2009-01-12    FL       1            901\n",
        "2009-01-19    fl       3            749\n",
        "2009-01-26    FL       3            111\n",
        "2009-02-02    GA       1            300"
       ]
      }
     ],
     "prompt_number": 196
    },
    {
     "cell_type": "code",
     "collapsed": false,
     "input": [
      "# This section attempts to clean up the data for analysis.\n",
      "\n",
      "#    1. Make sure the state column is all in upper case\n",
      "#    2. Only select records where the account status is equal to \"1\"\n",
      "#    3. Merge (NJ and NY) to NY in the state column\n",
      "#    4. Remove any outliers (any odd results in the data set)\n",
      "\n",
      "#Lets take a quick look on how some of the State values are upper case and some are lower case"
     ],
     "language": "python",
     "metadata": {},
     "outputs": [],
     "prompt_number": 197
    },
    {
     "cell_type": "code",
     "collapsed": false,
     "input": [
      "df['State'].unique()"
     ],
     "language": "python",
     "metadata": {},
     "outputs": [
      {
       "metadata": {},
       "output_type": "pyout",
       "prompt_number": 198,
       "text": [
        "array(['GA', 'FL', 'fl', 'TX', 'NY', 'NJ'], dtype=object)"
       ]
      }
     ],
     "prompt_number": 198
    },
    {
     "cell_type": "code",
     "collapsed": false,
     "input": [
      "df.apply?"
     ],
     "language": "python",
     "metadata": {},
     "outputs": [],
     "prompt_number": 199
    },
    {
     "cell_type": "code",
     "collapsed": false,
     "input": [
      "# Clean State Column, convert to upper case. lambda in the argument is a lambda function (abstraction), or anonymous function\n",
      "# Wiki search anonymous function for more details and examples\n",
      "\n",
      "df['State'] = df.State.apply(lambda x: x.upper())"
     ],
     "language": "python",
     "metadata": {},
     "outputs": [],
     "prompt_number": 200
    },
    {
     "cell_type": "code",
     "collapsed": false,
     "input": [
      "df['State'].unique()"
     ],
     "language": "python",
     "metadata": {},
     "outputs": [
      {
       "metadata": {},
       "output_type": "pyout",
       "prompt_number": 201,
       "text": [
        "array(['GA', 'FL', 'TX', 'NY', 'NJ'], dtype=object)"
       ]
      }
     ],
     "prompt_number": 201
    },
    {
     "cell_type": "code",
     "collapsed": false,
     "input": [
      "# Only grab where Status == 1\n",
      "# mask is a list of true or false values corresponding to which elements of the dataframe are equal to 1 or not\n",
      "mask = df['Status'] == 1\n",
      "df = df[mask]"
     ],
     "language": "python",
     "metadata": {},
     "outputs": [],
     "prompt_number": 202
    },
    {
     "cell_type": "code",
     "collapsed": false,
     "input": [
      "# Convert NJ to NY\n",
      "mask = df.State == 'NJ'\n",
      "df['State'][mask] = 'NY'"
     ],
     "language": "python",
     "metadata": {},
     "outputs": [],
     "prompt_number": 203
    },
    {
     "cell_type": "code",
     "collapsed": false,
     "input": [
      "df['State'].unique()"
     ],
     "language": "python",
     "metadata": {},
     "outputs": [
      {
       "metadata": {},
       "output_type": "pyout",
       "prompt_number": 204,
       "text": [
        "array(['GA', 'FL', 'NY', 'TX'], dtype=object)"
       ]
      }
     ],
     "prompt_number": 204
    },
    {
     "cell_type": "code",
     "collapsed": false,
     "input": [
      "# At this point we may want to graph the data to check for any outliers or inconsistencies in the data. We will be using the plot() \n",
      "# attribute of the dataframe.\n",
      "# As you can see from the graph below it is not very conclusive and is probably a sign that we need to perform some more data preparation.\n",
      "\n",
      "df['CustomerCount'].plot(figsize=(15,5));"
     ],
     "language": "python",
     "metadata": {},
     "outputs": [
      {
       "metadata": {},
       "output_type": "display_data",
       "png": "[encoded data removed]",
       "text": [
        "<matplotlib.figure.Figure at 0x7f7dc8985c50>"
       ]
      }
     ],
     "prompt_number": 205
    },
    {
     "cell_type": "code",
     "collapsed": false,
     "input": [
      "# If we take a look at the data, we begin to realize that there are multiple values for the same State, StatusDate, and Status combination.\n",
      "# It is possible that this means the data you are working with is dirty/bad/inaccurate, but we will assume otherwise. We can assume this\n",
      "# data set is a subset of a bigger data set and if we simply add the values in the CustomerCount column per State, StatusDate, and Status  \n",
      "# we will get the Total Customer Count per day."
     ],
     "language": "python",
     "metadata": {},
     "outputs": [],
     "prompt_number": 206
    },
    {
     "cell_type": "code",
     "collapsed": false,
     "input": [
      "# Here is a lowdown of the sort.index argument -> axis : index, columns to direct sorting# \n",
      "# So we are sorting by the first column\n",
      "\n",
      "sortdf = df[df['State']=='NY'].sort_index(axis=0)\n",
      "sortdf.head(10)"
     ],
     "language": "python",
     "metadata": {},
     "outputs": [
      {
       "html": [
        "<div style=\"max-width:1500px;overflow:auto;\">\n",
        "<table border=\"1\" class=\"dataframe\">\n",
        "  <thead>\n",
        "    <tr style=\"text-align: right;\">\n",
        "      <th></th>\n",
        "      <th>State</th>\n",
        "      <th>Status</th>\n",
        "      <th>CustomerCount</th>\n",
        "    </tr>\n",
        "    <tr>\n",
        "      <th>StatusDate</th>\n",
        "      <th></th>\n",
        "      <th></th>\n",
        "      <th></th>\n",
        "    </tr>\n",
        "  </thead>\n",
        "  <tbody>\n",
        "    <tr>\n",
        "      <th>2009-01-19</th>\n",
        "      <td>NY</td>\n",
        "      <td>1</td>\n",
        "      <td>522</td>\n",
        "    </tr>\n",
        "    <tr>\n",
        "      <th>2009-02-23</th>\n",
        "      <td>NY</td>\n",
        "      <td>1</td>\n",
        "      <td>710</td>\n",
        "    </tr>\n",
        "    <tr>\n",
        "      <th>2009-03-09</th>\n",
        "      <td>NY</td>\n",
        "      <td>1</td>\n",
        "      <td>992</td>\n",
        "    </tr>\n",
        "    <tr>\n",
        "      <th>2009-03-16</th>\n",
        "      <td>NY</td>\n",
        "      <td>1</td>\n",
        "      <td>355</td>\n",
        "    </tr>\n",
        "    <tr>\n",
        "      <th>2009-03-23</th>\n",
        "      <td>NY</td>\n",
        "      <td>1</td>\n",
        "      <td>728</td>\n",
        "    </tr>\n",
        "    <tr>\n",
        "      <th>2009-03-30</th>\n",
        "      <td>NY</td>\n",
        "      <td>1</td>\n",
        "      <td>863</td>\n",
        "    </tr>\n",
        "    <tr>\n",
        "      <th>2009-04-13</th>\n",
        "      <td>NY</td>\n",
        "      <td>1</td>\n",
        "      <td>520</td>\n",
        "    </tr>\n",
        "    <tr>\n",
        "      <th>2009-04-20</th>\n",
        "      <td>NY</td>\n",
        "      <td>1</td>\n",
        "      <td>820</td>\n",
        "    </tr>\n",
        "    <tr>\n",
        "      <th>2009-04-20</th>\n",
        "      <td>NY</td>\n",
        "      <td>1</td>\n",
        "      <td>937</td>\n",
        "    </tr>\n",
        "    <tr>\n",
        "      <th>2009-04-27</th>\n",
        "      <td>NY</td>\n",
        "      <td>1</td>\n",
        "      <td>447</td>\n",
        "    </tr>\n",
        "  </tbody>\n",
        "</table>\n",
        "</div>"
       ],
       "metadata": {},
       "output_type": "pyout",
       "prompt_number": 207,
       "text": [
        "           State  Status  CustomerCount\n",
        "StatusDate                             \n",
        "2009-01-19    NY       1            522\n",
        "2009-02-23    NY       1            710\n",
        "2009-03-09    NY       1            992\n",
        "2009-03-16    NY       1            355\n",
        "2009-03-23    NY       1            728\n",
        "2009-03-30    NY       1            863\n",
        "2009-04-13    NY       1            520\n",
        "2009-04-20    NY       1            820\n",
        "2009-04-20    NY       1            937\n",
        "2009-04-27    NY       1            447"
       ]
      }
     ],
     "prompt_number": 207
    },
    {
     "cell_type": "code",
     "collapsed": false,
     "input": [
      "# Group by State and StatusDate\n",
      "Daily = df.reset_index().groupby(['State','StatusDate']).sum()\n",
      "Daily.head()"
     ],
     "language": "python",
     "metadata": {},
     "outputs": [
      {
       "html": [
        "<div style=\"max-width:1500px;overflow:auto;\">\n",
        "<table border=\"1\" class=\"dataframe\">\n",
        "  <thead>\n",
        "    <tr style=\"text-align: right;\">\n",
        "      <th></th>\n",
        "      <th></th>\n",
        "      <th>Status</th>\n",
        "      <th>CustomerCount</th>\n",
        "    </tr>\n",
        "    <tr>\n",
        "      <th>State</th>\n",
        "      <th>StatusDate</th>\n",
        "      <th></th>\n",
        "      <th></th>\n",
        "    </tr>\n",
        "  </thead>\n",
        "  <tbody>\n",
        "    <tr>\n",
        "      <th rowspan=\"5\" valign=\"top\">FL</th>\n",
        "      <th>2009-01-12</th>\n",
        "      <td>1</td>\n",
        "      <td>901</td>\n",
        "    </tr>\n",
        "    <tr>\n",
        "      <th>2009-02-02</th>\n",
        "      <td>1</td>\n",
        "      <td>653</td>\n",
        "    </tr>\n",
        "    <tr>\n",
        "      <th>2009-03-23</th>\n",
        "      <td>1</td>\n",
        "      <td>752</td>\n",
        "    </tr>\n",
        "    <tr>\n",
        "      <th>2009-04-06</th>\n",
        "      <td>2</td>\n",
        "      <td>1086</td>\n",
        "    </tr>\n",
        "    <tr>\n",
        "      <th>2009-06-08</th>\n",
        "      <td>1</td>\n",
        "      <td>649</td>\n",
        "    </tr>\n",
        "  </tbody>\n",
        "</table>\n",
        "</div>"
       ],
       "metadata": {},
       "output_type": "pyout",
       "prompt_number": 208,
       "text": [
        "                  Status  CustomerCount\n",
        "State StatusDate                       \n",
        "FL    2009-01-12       1            901\n",
        "      2009-02-02       1            653\n",
        "      2009-03-23       1            752\n",
        "      2009-04-06       2           1086\n",
        "      2009-06-08       1            649"
       ]
      }
     ],
     "prompt_number": 208
    },
    {
     "cell_type": "code",
     "collapsed": false,
     "input": [
      "# Deleting the Status column because it is apparantly unnecesary\n",
      "del Daily['Status']\n",
      "Daily.head()"
     ],
     "language": "python",
     "metadata": {},
     "outputs": [
      {
       "html": [
        "<div style=\"max-width:1500px;overflow:auto;\">\n",
        "<table border=\"1\" class=\"dataframe\">\n",
        "  <thead>\n",
        "    <tr style=\"text-align: right;\">\n",
        "      <th></th>\n",
        "      <th></th>\n",
        "      <th>CustomerCount</th>\n",
        "    </tr>\n",
        "    <tr>\n",
        "      <th>State</th>\n",
        "      <th>StatusDate</th>\n",
        "      <th></th>\n",
        "    </tr>\n",
        "  </thead>\n",
        "  <tbody>\n",
        "    <tr>\n",
        "      <th rowspan=\"5\" valign=\"top\">FL</th>\n",
        "      <th>2009-01-12</th>\n",
        "      <td>901</td>\n",
        "    </tr>\n",
        "    <tr>\n",
        "      <th>2009-02-02</th>\n",
        "      <td>653</td>\n",
        "    </tr>\n",
        "    <tr>\n",
        "      <th>2009-03-23</th>\n",
        "      <td>752</td>\n",
        "    </tr>\n",
        "    <tr>\n",
        "      <th>2009-04-06</th>\n",
        "      <td>1086</td>\n",
        "    </tr>\n",
        "    <tr>\n",
        "      <th>2009-06-08</th>\n",
        "      <td>649</td>\n",
        "    </tr>\n",
        "  </tbody>\n",
        "</table>\n",
        "</div>"
       ],
       "metadata": {},
       "output_type": "pyout",
       "prompt_number": 209,
       "text": [
        "                  CustomerCount\n",
        "State StatusDate               \n",
        "FL    2009-01-12            901\n",
        "      2009-02-02            653\n",
        "      2009-03-23            752\n",
        "      2009-04-06           1086\n",
        "      2009-06-08            649"
       ]
      }
     ],
     "prompt_number": 209
    },
    {
     "cell_type": "code",
     "collapsed": false,
     "input": [
      "# What is the index of the dataframe\n",
      "Daily.index"
     ],
     "language": "python",
     "metadata": {},
     "outputs": [
      {
       "metadata": {},
       "output_type": "pyout",
       "prompt_number": 210,
       "text": [
        "MultiIndex(levels=[['FL', 'GA', 'NY', 'TX'], [2009-01-05 00:00:00, 2009-01-12 00:00:00, 2009-01-19 00:00:00, 2009-02-02 00:00:00, 2009-02-23 00:00:00, 2009-03-09 00:00:00, 2009-03-16 00:00:00, 2009-03-23 00:00:00, 2009-03-30 00:00:00, 2009-04-06 00:00:00, 2009-04-13 00:00:00, 2009-04-20 00:00:00, 2009-04-27 00:00:00, 2009-05-04 00:00:00, 2009-05-11 00:00:00, 2009-05-18 00:00:00, 2009-05-25 00:00:00, 2009-06-08 00:00:00, 2009-06-22 00:00:00, 2009-07-06 00:00:00, 2009-07-13 00:00:00, 2009-07-20 00:00:00, 2009-07-27 00:00:00, 2009-08-10 00:00:00, 2009-08-17 00:00:00, 2009-08-24 00:00:00, 2009-08-31 00:00:00, 2009-09-07 00:00:00, 2009-09-14 00:00:00, 2009-09-21 00:00:00, 2009-09-28 00:00:00, 2009-10-05 00:00:00, 2009-10-12 00:00:00, 2009-10-19 00:00:00, 2009-10-26 00:00:00, 2009-11-02 00:00:00, 2009-11-23 00:00:00, 2009-11-30 00:00:00, 2009-12-07 00:00:00, 2009-12-14 00:00:00, 2010-01-04 00:00:00, 2010-01-11 00:00:00, 2010-01-18 00:00:00, 2010-01-25 00:00:00, 2010-02-08 00:00:00, 2010-02-15 00:00:00, 2010-02-22 00:00:00, 2010-03-01 00:00:00, 2010-03-08 00:00:00, 2010-03-15 00:00:00, 2010-04-05 00:00:00, 2010-04-12 00:00:00, 2010-04-26 00:00:00, 2010-05-03 00:00:00, 2010-05-10 00:00:00, 2010-05-17 00:00:00, 2010-05-24 00:00:00, 2010-05-31 00:00:00, 2010-06-14 00:00:00, 2010-06-28 00:00:00, 2010-07-05 00:00:00, 2010-07-19 00:00:00, 2010-07-26 00:00:00, 2010-08-02 00:00:00, 2010-08-09 00:00:00, 2010-08-16 00:00:00, 2010-08-30 00:00:00, 2010-09-06 00:00:00, 2010-09-13 00:00:00, 2010-09-20 00:00:00, 2010-09-27 00:00:00, 2010-10-04 00:00:00, 2010-10-11 00:00:00, 2010-10-18 00:00:00, 2010-10-25 00:00:00, 2010-11-01 00:00:00, 2010-11-08 00:00:00, 2010-11-15 00:00:00, 2010-11-29 00:00:00, 2010-12-20 00:00:00, 2011-01-03 00:00:00, 2011-01-10 00:00:00, 2011-01-17 00:00:00, 2011-02-07 00:00:00, 2011-02-14 00:00:00, 2011-02-21 00:00:00, 2011-02-28 00:00:00, 2011-03-07 00:00:00, 2011-03-14 00:00:00, 2011-03-21 00:00:00, 2011-03-28 00:00:00, 2011-04-04 00:00:00, 2011-04-18 00:00:00, 2011-04-25 00:00:00, 2011-05-02 00:00:00, 2011-05-09 00:00:00, 2011-05-16 00:00:00, 2011-05-23 00:00:00, 2011-05-30 00:00:00, 2011-06-06 00:00:00, 2011-06-20 00:00:00, 2011-06-27 00:00:00, 2011-07-04 00:00:00, 2011-07-11 00:00:00, 2011-07-25 00:00:00, 2011-08-01 00:00:00, 2011-08-08 00:00:00, 2011-08-15 00:00:00, 2011-08-29 00:00:00, 2011-09-05 00:00:00, 2011-09-12 00:00:00, 2011-09-26 00:00:00, 2011-10-03 00:00:00, 2011-10-24 00:00:00, 2011-10-31 00:00:00, 2011-11-07 00:00:00, 2011-11-14 00:00:00, 2011-11-28 00:00:00, 2011-12-05 00:00:00, 2011-12-12 00:00:00, 2011-12-19 00:00:00, 2011-12-26 00:00:00, 2012-01-02 00:00:00, 2012-01-09 00:00:00, 2012-01-16 00:00:00, 2012-02-06 00:00:00, 2012-02-13 00:00:00, 2012-02-20 00:00:00, 2012-02-27 00:00:00, 2012-03-05 00:00:00, 2012-03-12 00:00:00, 2012-03-19 00:00:00, 2012-04-02 00:00:00, 2012-04-09 00:00:00, 2012-04-23 00:00:00, 2012-04-30 00:00:00, 2012-05-07 00:00:00, 2012-05-14 00:00:00, 2012-05-28 00:00:00, 2012-06-04 00:00:00, 2012-06-18 00:00:00, 2012-07-02 00:00:00, 2012-07-09 00:00:00, 2012-07-16 00:00:00, 2012-07-30 00:00:00, 2012-08-06 00:00:00, 2012-08-20 00:00:00, 2012-08-27 00:00:00, 2012-09-03 00:00:00, 2012-09-10 00:00:00, 2012-09-17 00:00:00, 2012-09-24 00:00:00, 2012-10-01 00:00:00, 2012-10-08 00:00:00, 2012-10-22 00:00:00, 2012-10-29 00:00:00, 2012-11-05 00:00:00, 2012-11-12 00:00:00, 2012-11-19 00:00:00, 2012-11-26 00:00:00, 2012-12-10 00:00:00]],\n",
        "           labels=[[0, 0, 0, 0, 0, 0, 0, 0, 0, 0, 0, 0, 0, 0, 0, 0, 0, 0, 0, 0, 0, 0, 0, 0, 0, 0, 0, 0, 0, 0, 0, 0, 0, 0, 0, 0, 0, 0, 0, 0, 0, 0, 0, 0, 0, 0, 0, 0, 0, 0, 0, 0, 0, 0, 0, 0, 0, 0, 0, 0, 0, 0, 0, 0, 0, 0, 0, 0, 0, 0, 0, 0, 0, 0, 0, 0, 0, 0, 0, 0, 0, 0, 1, 1, 1, 1, 1, 1, 1, 1, 1, 1, 1, 1, 1, 1, 1, 1, 1, 1, 1, 1, 1, 1, 1, 1, 1, 1, 1, 1, 1, 1, 1, 1, 1, 1, 1, 1, 1, 1, 1, 1, 1, 1, 1, 1, 1, 2, 2, 2, 2, 2, 2, 2, 2, 2, 2, 2, 2, 2, 2, 2, 2, 2, 2, 2, 2, 2, 2, 2, 2, 2, 2, 2, 2, 2, 2, 2, 2, 2, 2, 2, 2, 2, 2, 2, 2, 2, 2, 2, 2, 2, 2, 2, 2, 2, 2, 2, 2, 2, 2, 2, 2, 2, 2, 2, 2, 2, 2, 2, 2, 2, 2, 2, 2, 2, 2, 2, 2, 2, 2, 2, 2, 2, 2, 2, 3, 3, 3, 3, 3, 3, 3, 3, 3, 3, 3, 3, 3, 3, 3, 3, 3, 3, 3, 3, 3, 3, 3, 3, 3, 3, 3, 3, 3, 3, 3, 3, 3], [1, 3, 7, 9, 17, 19, 20, 21, 23, 25, 27, 28, 29, 30, 31, 35, 38, 40, 41, 44, 45, 46, 47, 48, 49, 52, 54, 56, 57, 59, 60, 62, 66, 68, 69, 70, 71, 72, 75, 76, 77, 78, 79, 85, 88, 89, 92, 96, 97, 99, 100, 101, 103, 104, 105, 108, 109, 110, 112, 114, 115, 117, 118, 119, 125, 126, 127, 128, 129, 131, 133, 134, 135, 136, 137, 140, 146, 150, 151, 152, 153, 157, 0, 3, 7, 22, 23, 24, 27, 28, 34, 37, 42, 47, 50, 55, 58, 66, 67, 69, 71, 73, 74, 75, 79, 82, 83, 84, 85, 91, 93, 95, 97, 106, 110, 120, 124, 125, 126, 127, 132, 133, 139, 143, 158, 159, 160, 2, 4, 5, 6, 7, 8, 10, 11, 12, 13, 14, 16, 19, 21, 22, 24, 26, 28, 29, 30, 31, 32, 33, 36, 39, 40, 42, 43, 51, 56, 61, 62, 63, 66, 67, 70, 71, 72, 73, 75, 78, 80, 81, 82, 83, 86, 87, 90, 91, 92, 94, 101, 102, 103, 105, 107, 108, 111, 113, 116, 118, 122, 125, 129, 130, 131, 132, 138, 139, 141, 142, 143, 144, 148, 149, 154, 156, 159, 160, 15, 16, 17, 18, 45, 47, 50, 53, 57, 61, 64, 65, 68, 84, 88, 94, 98, 107, 110, 112, 115, 121, 122, 123, 128, 130, 134, 135, 145, 146, 147, 148, 155]],\n",
        "           names=['State', 'StatusDate'])"
       ]
      }
     ],
     "prompt_number": 210
    },
    {
     "cell_type": "code",
     "collapsed": false,
     "input": [
      "# Select the State index -->> levels[0] is basically the first column of the dataframe excluding the header\n",
      "Daily.index.levels[0]"
     ],
     "language": "python",
     "metadata": {},
     "outputs": [
      {
       "metadata": {},
       "output_type": "pyout",
       "prompt_number": 211,
       "text": [
        "Index(['FL', 'GA', 'NY', 'TX'], dtype='object', name='State')"
       ]
      }
     ],
     "prompt_number": 211
    },
    {
     "cell_type": "code",
     "collapsed": false,
     "input": [
      "# Select the StatusDate index -->> levels[1] is the second column of the dataframe exluding the header\n",
      "Daily.index.levels[1]"
     ],
     "language": "python",
     "metadata": {},
     "outputs": [
      {
       "metadata": {},
       "output_type": "pyout",
       "prompt_number": 212,
       "text": [
        "DatetimeIndex(['2009-01-05', '2009-01-12', '2009-01-19', '2009-02-02',\n",
        "               '2009-02-23', '2009-03-09', '2009-03-16', '2009-03-23',\n",
        "               '2009-03-30', '2009-04-06',\n",
        "               ...\n",
        "               '2012-09-24', '2012-10-01', '2012-10-08', '2012-10-22',\n",
        "               '2012-10-29', '2012-11-05', '2012-11-12', '2012-11-19',\n",
        "               '2012-11-26', '2012-12-10'],\n",
        "              dtype='datetime64[ns]', name='StatusDate', length=161, freq=None)"
       ]
      }
     ],
     "prompt_number": 212
    },
    {
     "cell_type": "code",
     "collapsed": false,
     "input": [
      "# Lets now plot the data per State.\n",
      "# As you can see by breaking the graph up by the State column we have a much clearer picture on how the data looks like. Can you spot any\n",
      "# outliers?\n",
      "\n",
      "Daily.loc['FL'].plot()\n",
      "Daily.loc['GA'].plot()\n",
      "Daily.loc['NY'].plot()\n",
      "Daily.loc['TX'].plot();"
     ],
     "language": "python",
     "metadata": {},
     "outputs": [
      {
       "metadata": {},
       "output_type": "display_data",
       "png": "[encoded data removed]",
       "text": [
        "<matplotlib.figure.Figure at 0x7f7dc89667f0>"
       ]
      },
      {
       "metadata": {},
       "output_type": "display_data",
       "png": "[encoded data removed]",
       "text": [
        "<matplotlib.figure.Figure at 0x7f7dc89668d0>"
       ]
      },
      {
       "metadata": {},
       "output_type": "display_data",
       "png": "[encoded data removed]",
       "text": [
        "<matplotlib.figure.Figure at 0x7f7dc8a21080>"
       ]
      },
      {
       "metadata": {},
       "output_type": "display_data",
       "png": "[encoded data removed]",
       "text": [
        "<matplotlib.figure.Figure at 0x7f7dc8a21898>"
       ]
      }
     ],
     "prompt_number": 213
    },
    {
     "cell_type": "code",
     "collapsed": false,
     "input": [
      "# Plot data from 2012 only\n",
      "Daily.loc['FL']['2012':].plot()\n",
      "Daily.loc['GA']['2012':].plot()\n",
      "Daily.loc['NY']['2012':].plot()\n",
      "Daily.loc['TX']['2012':].plot();\n"
     ],
     "language": "python",
     "metadata": {},
     "outputs": [
      {
       "metadata": {},
       "output_type": "display_data",
       "png": "[encoded data removed]",
       "text": [
        "<matplotlib.figure.Figure at 0x7f7dc8972f98>"
       ]
      },
      {
       "metadata": {},
       "output_type": "display_data",
       "png": "[encoded data removed]",
       "text": [
        "<matplotlib.figure.Figure at 0x7f7dc89d9c88>"
       ]
      },
      {
       "metadata": {},
       "output_type": "display_data",
       "png": "[encoded data removed]",
       "text": [
        "<matplotlib.figure.Figure at 0x7f7dc8b418d0>"
       ]
      },
      {
       "metadata": {},
       "output_type": "display_data",
       "png": "[encoded data removed]",
       "text": [
        "<matplotlib.figure.Figure at 0x7f7dcc578470>"
       ]
      }
     ],
     "prompt_number": 214
    },
    {
     "cell_type": "code",
     "collapsed": false,
     "input": [
      "# We will assume that per month the customer count should remain relatively steady. Any data outside a specific range in that month will \n",
      "# be removed from the data set. The final result should have smooth graphs with no spikes.\n",
      "\n",
      "# StateYearMonth - Here we group by State, Year of StatusDate, and Month of StatusDate.\n",
      "# Daily['Outlier'] - A boolean (True or False) value letting us know if the value in the CustomerCount column is ouside the acceptable \n",
      "# range.\n",
      "\n",
      "# We will be using the attribute transform instead of apply. The reason is that transform will keep the shape(number of rows and columns) \n",
      "# of the dataframe the same and apply will not. By looking at the previous graphs, we can realize they are not resembling a gaussian \n",
      "# distribution, this means we cannot use summary statistics like the mean and stDev. We use percentiles instead. Note that we run the \n",
      "# risk of eliminating good data."
     ],
     "language": "python",
     "metadata": {},
     "outputs": [],
     "prompt_number": 215
    },
    {
     "cell_type": "code",
     "collapsed": false,
     "input": [
      "Daily.index.get_level_values(0)"
     ],
     "language": "python",
     "metadata": {},
     "outputs": [
      {
       "metadata": {},
       "output_type": "pyout",
       "prompt_number": 216,
       "text": [
        "Index(['FL', 'FL', 'FL', 'FL', 'FL', 'FL', 'FL', 'FL', 'FL', 'FL',\n",
        "       ...\n",
        "       'TX', 'TX', 'TX', 'TX', 'TX', 'TX', 'TX', 'TX', 'TX', 'TX'],\n",
        "      dtype='object', name='State', length=239)"
       ]
      }
     ],
     "prompt_number": 216
    },
    {
     "cell_type": "code",
     "collapsed": false,
     "input": [
      "Daily.index.get_level_values(1).year"
     ],
     "language": "python",
     "metadata": {},
     "outputs": [
      {
       "metadata": {},
       "output_type": "pyout",
       "prompt_number": 217,
       "text": [
        "array([2009, 2009, 2009, 2009, 2009, 2009, 2009, 2009, 2009, 2009, 2009,\n",
        "       2009, 2009, 2009, 2009, 2009, 2009, 2010, 2010, 2010, 2010, 2010,\n",
        "       2010, 2010, 2010, 2010, 2010, 2010, 2010, 2010, 2010, 2010, 2010,\n",
        "       2010, 2010, 2010, 2010, 2010, 2010, 2010, 2010, 2010, 2010, 2011,\n",
        "       2011, 2011, 2011, 2011, 2011, 2011, 2011, 2011, 2011, 2011, 2011,\n",
        "       2011, 2011, 2011, 2011, 2011, 2011, 2011, 2011, 2011, 2012, 2012,\n",
        "       2012, 2012, 2012, 2012, 2012, 2012, 2012, 2012, 2012, 2012, 2012,\n",
        "       2012, 2012, 2012, 2012, 2012, 2009, 2009, 2009, 2009, 2009, 2009,\n",
        "       2009, 2009, 2009, 2009, 2010, 2010, 2010, 2010, 2010, 2010, 2010,\n",
        "       2010, 2010, 2010, 2010, 2010, 2010, 2011, 2011, 2011, 2011, 2011,\n",
        "       2011, 2011, 2011, 2011, 2011, 2011, 2012, 2012, 2012, 2012, 2012,\n",
        "       2012, 2012, 2012, 2012, 2012, 2012, 2009, 2009, 2009, 2009, 2009,\n",
        "       2009, 2009, 2009, 2009, 2009, 2009, 2009, 2009, 2009, 2009, 2009,\n",
        "       2009, 2009, 2009, 2009, 2009, 2009, 2009, 2009, 2009, 2010, 2010,\n",
        "       2010, 2010, 2010, 2010, 2010, 2010, 2010, 2010, 2010, 2010, 2010,\n",
        "       2010, 2010, 2010, 2011, 2011, 2011, 2011, 2011, 2011, 2011, 2011,\n",
        "       2011, 2011, 2011, 2011, 2011, 2011, 2011, 2011, 2011, 2011, 2011,\n",
        "       2011, 2012, 2012, 2012, 2012, 2012, 2012, 2012, 2012, 2012, 2012,\n",
        "       2012, 2012, 2012, 2012, 2012, 2012, 2012, 2012, 2009, 2009, 2009,\n",
        "       2009, 2010, 2010, 2010, 2010, 2010, 2010, 2010, 2010, 2010, 2011,\n",
        "       2011, 2011, 2011, 2011, 2011, 2011, 2011, 2011, 2012, 2012, 2012,\n",
        "       2012, 2012, 2012, 2012, 2012, 2012, 2012, 2012], dtype=int32)"
       ]
      }
     ],
     "prompt_number": 217
    },
    {
     "cell_type": "code",
     "collapsed": false,
     "input": [
      "Daily.index.get_level_values(1).month"
     ],
     "language": "python",
     "metadata": {},
     "outputs": [
      {
       "metadata": {},
       "output_type": "pyout",
       "prompt_number": 218,
       "text": [
        "array([ 1,  2,  3,  4,  6,  7,  7,  7,  8,  8,  9,  9,  9,  9, 10, 11, 12,\n",
        "        1,  1,  2,  2,  2,  3,  3,  3,  4,  5,  5,  5,  6,  7,  7,  8,  9,\n",
        "        9,  9, 10, 10, 11, 11, 11, 11, 12,  2,  3,  3,  4,  5,  5,  6,  6,\n",
        "        6,  7,  7,  8,  8,  9,  9, 10, 10, 11, 11, 12, 12,  2,  2,  2,  2,\n",
        "        3,  3,  4,  4,  4,  5,  5,  6,  8,  9,  9, 10, 10, 11,  1,  2,  3,\n",
        "        7,  8,  8,  9,  9, 10, 11,  1,  3,  4,  5,  6,  8,  9,  9, 10, 10,\n",
        "       10, 11, 12,  1,  2,  2,  2,  4,  4,  5,  5,  8,  9, 12,  1,  2,  2,\n",
        "        2,  4,  4,  6,  7, 11, 11, 12,  1,  2,  3,  3,  3,  3,  4,  4,  4,\n",
        "        5,  5,  5,  7,  7,  7,  8,  8,  9,  9,  9, 10, 10, 10, 11, 12,  1,\n",
        "        1,  1,  4,  5,  7,  7,  8,  8,  9,  9, 10, 10, 10, 11, 11,  1,  1,\n",
        "        1,  2,  2,  3,  3,  4,  4,  5,  6,  7,  7,  8,  8,  8,  9, 10, 11,\n",
        "       12,  1,  2,  3,  3,  3,  4,  5,  6,  7,  7,  7,  7,  9,  9, 10, 11,\n",
        "       11, 12,  5,  5,  6,  6,  2,  3,  4,  5,  5,  7,  8,  8,  9,  2,  3,\n",
        "        5,  5,  8,  9, 10, 11, 12,  1,  1,  2,  3,  4,  4,  8,  8,  8,  9,\n",
        "       10], dtype=int32)"
       ]
      }
     ],
     "prompt_number": 218
    },
    {
     "cell_type": "code",
     "collapsed": false,
     "input": [
      "StateYearMonth = Daily.groupby([Daily.index.get_level_values(0), Daily.index.get_level_values(1).year, Daily.index.get_level_values(1).\n",
      "                                month])"
     ],
     "language": "python",
     "metadata": {},
     "outputs": [],
     "prompt_number": 219
    },
    {
     "cell_type": "code",
     "collapsed": false,
     "input": [
      "StateYearMonth.head()"
     ],
     "language": "python",
     "metadata": {},
     "outputs": [
      {
       "html": [
        "<div style=\"max-width:1500px;overflow:auto;\">\n",
        "<table border=\"1\" class=\"dataframe\">\n",
        "  <thead>\n",
        "    <tr style=\"text-align: right;\">\n",
        "      <th></th>\n",
        "      <th></th>\n",
        "      <th>CustomerCount</th>\n",
        "    </tr>\n",
        "    <tr>\n",
        "      <th>State</th>\n",
        "      <th>StatusDate</th>\n",
        "      <th></th>\n",
        "    </tr>\n",
        "  </thead>\n",
        "  <tbody>\n",
        "    <tr>\n",
        "      <th rowspan=\"30\" valign=\"top\">FL</th>\n",
        "      <th>2009-01-12</th>\n",
        "      <td>901</td>\n",
        "    </tr>\n",
        "    <tr>\n",
        "      <th>2009-02-02</th>\n",
        "      <td>653</td>\n",
        "    </tr>\n",
        "    <tr>\n",
        "      <th>2009-03-23</th>\n",
        "      <td>752</td>\n",
        "    </tr>\n",
        "    <tr>\n",
        "      <th>2009-04-06</th>\n",
        "      <td>1086</td>\n",
        "    </tr>\n",
        "    <tr>\n",
        "      <th>2009-06-08</th>\n",
        "      <td>649</td>\n",
        "    </tr>\n",
        "    <tr>\n",
        "      <th>2009-07-06</th>\n",
        "      <td>723</td>\n",
        "    </tr>\n",
        "    <tr>\n",
        "      <th>2009-07-13</th>\n",
        "      <td>727</td>\n",
        "    </tr>\n",
        "    <tr>\n",
        "      <th>2009-07-20</th>\n",
        "      <td>710</td>\n",
        "    </tr>\n",
        "    <tr>\n",
        "      <th>2009-08-10</th>\n",
        "      <td>498</td>\n",
        "    </tr>\n",
        "    <tr>\n",
        "      <th>2009-08-24</th>\n",
        "      <td>1902</td>\n",
        "    </tr>\n",
        "    <tr>\n",
        "      <th>2009-09-07</th>\n",
        "      <td>307</td>\n",
        "    </tr>\n",
        "    <tr>\n",
        "      <th>2009-09-14</th>\n",
        "      <td>185</td>\n",
        "    </tr>\n",
        "    <tr>\n",
        "      <th>2009-09-21</th>\n",
        "      <td>495</td>\n",
        "    </tr>\n",
        "    <tr>\n",
        "      <th>2009-09-28</th>\n",
        "      <td>952</td>\n",
        "    </tr>\n",
        "    <tr>\n",
        "      <th>2009-10-05</th>\n",
        "      <td>653</td>\n",
        "    </tr>\n",
        "    <tr>\n",
        "      <th>2009-11-02</th>\n",
        "      <td>36</td>\n",
        "    </tr>\n",
        "    <tr>\n",
        "      <th>2009-12-07</th>\n",
        "      <td>537</td>\n",
        "    </tr>\n",
        "    <tr>\n",
        "      <th>2010-01-04</th>\n",
        "      <td>99</td>\n",
        "    </tr>\n",
        "    <tr>\n",
        "      <th>2010-01-11</th>\n",
        "      <td>992</td>\n",
        "    </tr>\n",
        "    <tr>\n",
        "      <th>2010-02-08</th>\n",
        "      <td>564</td>\n",
        "    </tr>\n",
        "    <tr>\n",
        "      <th>2010-02-15</th>\n",
        "      <td>758</td>\n",
        "    </tr>\n",
        "    <tr>\n",
        "      <th>2010-02-22</th>\n",
        "      <td>968</td>\n",
        "    </tr>\n",
        "    <tr>\n",
        "      <th>2010-03-01</th>\n",
        "      <td>871</td>\n",
        "    </tr>\n",
        "    <tr>\n",
        "      <th>2010-03-08</th>\n",
        "      <td>154</td>\n",
        "    </tr>\n",
        "    <tr>\n",
        "      <th>2010-03-15</th>\n",
        "      <td>32</td>\n",
        "    </tr>\n",
        "    <tr>\n",
        "      <th>2010-04-26</th>\n",
        "      <td>599</td>\n",
        "    </tr>\n",
        "    <tr>\n",
        "      <th>2010-05-10</th>\n",
        "      <td>30</td>\n",
        "    </tr>\n",
        "    <tr>\n",
        "      <th>2010-05-24</th>\n",
        "      <td>881</td>\n",
        "    </tr>\n",
        "    <tr>\n",
        "      <th>2010-05-31</th>\n",
        "      <td>665</td>\n",
        "    </tr>\n",
        "    <tr>\n",
        "      <th>2010-06-28</th>\n",
        "      <td>847</td>\n",
        "    </tr>\n",
        "    <tr>\n",
        "      <th>...</th>\n",
        "      <th>...</th>\n",
        "      <td>...</td>\n",
        "    </tr>\n",
        "    <tr>\n",
        "      <th rowspan=\"30\" valign=\"top\">TX</th>\n",
        "      <th>2009-06-22</th>\n",
        "      <td>896</td>\n",
        "    </tr>\n",
        "    <tr>\n",
        "      <th>2010-02-15</th>\n",
        "      <td>148</td>\n",
        "    </tr>\n",
        "    <tr>\n",
        "      <th>2010-03-01</th>\n",
        "      <td>414</td>\n",
        "    </tr>\n",
        "    <tr>\n",
        "      <th>2010-04-05</th>\n",
        "      <td>654</td>\n",
        "    </tr>\n",
        "    <tr>\n",
        "      <th>2010-05-03</th>\n",
        "      <td>951</td>\n",
        "    </tr>\n",
        "    <tr>\n",
        "      <th>2010-05-31</th>\n",
        "      <td>749</td>\n",
        "    </tr>\n",
        "    <tr>\n",
        "      <th>2010-07-19</th>\n",
        "      <td>94</td>\n",
        "    </tr>\n",
        "    <tr>\n",
        "      <th>2010-08-09</th>\n",
        "      <td>185</td>\n",
        "    </tr>\n",
        "    <tr>\n",
        "      <th>2010-08-16</th>\n",
        "      <td>547</td>\n",
        "    </tr>\n",
        "    <tr>\n",
        "      <th>2010-09-13</th>\n",
        "      <td>787</td>\n",
        "    </tr>\n",
        "    <tr>\n",
        "      <th>2011-02-14</th>\n",
        "      <td>289</td>\n",
        "    </tr>\n",
        "    <tr>\n",
        "      <th>2011-03-14</th>\n",
        "      <td>889</td>\n",
        "    </tr>\n",
        "    <tr>\n",
        "      <th>2011-05-02</th>\n",
        "      <td>887</td>\n",
        "    </tr>\n",
        "    <tr>\n",
        "      <th>2011-05-30</th>\n",
        "      <td>126</td>\n",
        "    </tr>\n",
        "    <tr>\n",
        "      <th>2011-08-15</th>\n",
        "      <td>271</td>\n",
        "    </tr>\n",
        "    <tr>\n",
        "      <th>2011-09-12</th>\n",
        "      <td>955</td>\n",
        "    </tr>\n",
        "    <tr>\n",
        "      <th>2011-10-03</th>\n",
        "      <td>346</td>\n",
        "    </tr>\n",
        "    <tr>\n",
        "      <th>2011-11-07</th>\n",
        "      <td>49</td>\n",
        "    </tr>\n",
        "    <tr>\n",
        "      <th>2011-12-26</th>\n",
        "      <td>175</td>\n",
        "    </tr>\n",
        "    <tr>\n",
        "      <th>2012-01-02</th>\n",
        "      <td>123</td>\n",
        "    </tr>\n",
        "    <tr>\n",
        "      <th>2012-01-09</th>\n",
        "      <td>564</td>\n",
        "    </tr>\n",
        "    <tr>\n",
        "      <th>2012-02-27</th>\n",
        "      <td>957</td>\n",
        "    </tr>\n",
        "    <tr>\n",
        "      <th>2012-03-12</th>\n",
        "      <td>217</td>\n",
        "    </tr>\n",
        "    <tr>\n",
        "      <th>2012-04-23</th>\n",
        "      <td>516</td>\n",
        "    </tr>\n",
        "    <tr>\n",
        "      <th>2012-04-30</th>\n",
        "      <td>471</td>\n",
        "    </tr>\n",
        "    <tr>\n",
        "      <th>2012-08-06</th>\n",
        "      <td>178</td>\n",
        "    </tr>\n",
        "    <tr>\n",
        "      <th>2012-08-20</th>\n",
        "      <td>248</td>\n",
        "    </tr>\n",
        "    <tr>\n",
        "      <th>2012-08-27</th>\n",
        "      <td>100</td>\n",
        "    </tr>\n",
        "    <tr>\n",
        "      <th>2012-09-03</th>\n",
        "      <td>89</td>\n",
        "    </tr>\n",
        "    <tr>\n",
        "      <th>2012-10-29</th>\n",
        "      <td>183</td>\n",
        "    </tr>\n",
        "  </tbody>\n",
        "</table>\n",
        "<p>239 rows \u00d7 1 columns</p>\n",
        "</div>"
       ],
       "metadata": {},
       "output_type": "pyout",
       "prompt_number": 220,
       "text": [
        "                  CustomerCount\n",
        "State StatusDate               \n",
        "FL    2009-01-12            901\n",
        "      2009-02-02            653\n",
        "      2009-03-23            752\n",
        "      2009-04-06           1086\n",
        "      2009-06-08            649\n",
        "      2009-07-06            723\n",
        "      2009-07-13            727\n",
        "      2009-07-20            710\n",
        "      2009-08-10            498\n",
        "      2009-08-24           1902\n",
        "      2009-09-07            307\n",
        "      2009-09-14            185\n",
        "      2009-09-21            495\n",
        "      2009-09-28            952\n",
        "      2009-10-05            653\n",
        "      2009-11-02             36\n",
        "      2009-12-07            537\n",
        "      2010-01-04             99\n",
        "      2010-01-11            992\n",
        "      2010-02-08            564\n",
        "      2010-02-15            758\n",
        "      2010-02-22            968\n",
        "      2010-03-01            871\n",
        "      2010-03-08            154\n",
        "      2010-03-15             32\n",
        "      2010-04-26            599\n",
        "      2010-05-10             30\n",
        "      2010-05-24            881\n",
        "      2010-05-31            665\n",
        "      2010-06-28            847\n",
        "...                         ...\n",
        "TX    2009-06-22            896\n",
        "      2010-02-15            148\n",
        "      2010-03-01            414\n",
        "      2010-04-05            654\n",
        "      2010-05-03            951\n",
        "      2010-05-31            749\n",
        "      2010-07-19             94\n",
        "      2010-08-09            185\n",
        "      2010-08-16            547\n",
        "      2010-09-13            787\n",
        "      2011-02-14            289\n",
        "      2011-03-14            889\n",
        "      2011-05-02            887\n",
        "      2011-05-30            126\n",
        "      2011-08-15            271\n",
        "      2011-09-12            955\n",
        "      2011-10-03            346\n",
        "      2011-11-07             49\n",
        "      2011-12-26            175\n",
        "      2012-01-02            123\n",
        "      2012-01-09            564\n",
        "      2012-02-27            957\n",
        "      2012-03-12            217\n",
        "      2012-04-23            516\n",
        "      2012-04-30            471\n",
        "      2012-08-06            178\n",
        "      2012-08-20            248\n",
        "      2012-08-27            100\n",
        "      2012-09-03             89\n",
        "      2012-10-29            183\n",
        "\n",
        "[239 rows x 1 columns]"
       ]
      }
     ],
     "prompt_number": 220
    },
    {
     "cell_type": "code",
     "collapsed": false,
     "input": [
      "Daily['CustomerCount'].quantile(.75)"
     ],
     "language": "python",
     "metadata": {},
     "outputs": [
      {
       "metadata": {},
       "output_type": "pyout",
       "prompt_number": 235,
       "text": [
        "806.0"
       ]
      }
     ],
     "prompt_number": 235
    },
    {
     "cell_type": "code",
     "collapsed": false,
     "input": [
      "1.5*Daily['CustomerCount'].quantile(.75)"
     ],
     "language": "python",
     "metadata": {},
     "outputs": [
      {
       "metadata": {},
       "output_type": "pyout",
       "prompt_number": 236,
       "text": [
        "1209.0"
       ]
      }
     ],
     "prompt_number": 236
    },
    {
     "cell_type": "code",
     "collapsed": false,
     "input": [
      "Daily['CustomerCount'].quantile(.25)"
     ],
     "language": "python",
     "metadata": {},
     "outputs": [
      {
       "metadata": {},
       "output_type": "pyout",
       "prompt_number": 234,
       "text": [
        "305.5"
       ]
      }
     ],
     "prompt_number": 234
    },
    {
     "cell_type": "code",
     "collapsed": false,
     "input": [
      "Daily['CustomerCount'].quantile(.25) - (1.5*Daily['CustomerCount'].quantile(.75)-Daily['CustomerCount'].quantile(.25))"
     ],
     "language": "python",
     "metadata": {},
     "outputs": [
      {
       "metadata": {},
       "output_type": "pyout",
       "prompt_number": 237,
       "text": [
        "-598.0"
       ]
      }
     ],
     "prompt_number": 237
    },
    {
     "cell_type": "code",
     "collapsed": false,
     "input": [
      "# The arbitrary low is << 0 as is a bit rediculous to be honest. This is not my work, rather I am just following the pandas lesson  \n",
      "Daily['Lower'] = StateYearMonth['CustomerCount'].transform( lambda x: x.quantile(q=.25) - (1.5*x.quantile(q=.75)-x.quantile(q=.25)) )"
     ],
     "language": "python",
     "metadata": {},
     "outputs": [],
     "prompt_number": 221
    },
    {
     "cell_type": "code",
     "collapsed": false,
     "input": [
      "Daily['Lower'].head()"
     ],
     "language": "python",
     "metadata": {},
     "outputs": [
      {
       "metadata": {},
       "output_type": "pyout",
       "prompt_number": 222,
       "text": [
        "State  StatusDate\n",
        "FL     2009-01-12    450.5\n",
        "       2009-02-02    326.5\n",
        "       2009-03-23    376.0\n",
        "       2009-04-06    543.0\n",
        "       2009-06-08    324.5\n",
        "Name: Lower, dtype: float64"
       ]
      }
     ],
     "prompt_number": 222
    },
    {
     "cell_type": "code",
     "collapsed": false,
     "input": [
      "Daily['CustomerCount'].quantile(q=.75) + (1.5*Daily['CustomerCount'].quantile(q=.75)-Daily['CustomerCount'].quantile(q=.25))"
     ],
     "language": "python",
     "metadata": {},
     "outputs": [
      {
       "metadata": {},
       "output_type": "pyout",
       "prompt_number": 238,
       "text": [
        "1709.5"
       ]
      }
     ],
     "prompt_number": 238
    },
    {
     "cell_type": "code",
     "collapsed": false,
     "input": [
      "# Likewise to the comment about Daily['Lower'] this upper limit seems a bit low to me.\n",
      "Daily['Upper'] = StateYearMonth['CustomerCount'].transform( lambda x: x.quantile(q=.75) + (1.5*x.quantile(q=.75)-x.quantile(q=.25)) )"
     ],
     "language": "python",
     "metadata": {},
     "outputs": [],
     "prompt_number": 239
    },
    {
     "cell_type": "code",
     "collapsed": false,
     "input": [
      "Daily['Upper'].head()"
     ],
     "language": "python",
     "metadata": {},
     "outputs": [
      {
       "metadata": {},
       "output_type": "pyout",
       "prompt_number": 240,
       "text": [
        "State  StatusDate\n",
        "FL     2009-01-12    1351.5\n",
        "       2009-02-02     979.5\n",
        "       2009-03-23    1128.0\n",
        "       2009-04-06    1629.0\n",
        "       2009-06-08     973.5\n",
        "Name: Upper, dtype: float64"
       ]
      }
     ],
     "prompt_number": 240
    },
    {
     "cell_type": "code",
     "collapsed": false,
     "input": [
      "Daily['CustomerCount'].head()"
     ],
     "language": "python",
     "metadata": {},
     "outputs": [
      {
       "metadata": {},
       "output_type": "pyout",
       "prompt_number": 241,
       "text": [
        "State  StatusDate\n",
        "FL     2009-01-12     901\n",
        "       2009-02-02     653\n",
        "       2009-03-23     752\n",
        "       2009-04-06    1086\n",
        "       2009-06-08     649\n",
        "Name: CustomerCount, dtype: int64"
       ]
      }
     ],
     "prompt_number": 241
    },
    {
     "cell_type": "code",
     "collapsed": false,
     "input": [
      "Daily['Outlier'] = (Daily['CustomerCount'] < Daily['Lower']) | (Daily['CustomerCount'] > Daily['Upper']) \n",
      "\n",
      "# Remove Outliers\n",
      "Daily = Daily[Daily['Outlier'] == False]"
     ],
     "language": "python",
     "metadata": {},
     "outputs": [],
     "prompt_number": 242
    },
    {
     "cell_type": "code",
     "collapsed": false,
     "input": [
      "Daily.head()"
     ],
     "language": "python",
     "metadata": {},
     "outputs": [
      {
       "html": [
        "<div style=\"max-width:1500px;overflow:auto;\">\n",
        "<table border=\"1\" class=\"dataframe\">\n",
        "  <thead>\n",
        "    <tr style=\"text-align: right;\">\n",
        "      <th></th>\n",
        "      <th></th>\n",
        "      <th>CustomerCount</th>\n",
        "      <th>Lower</th>\n",
        "      <th>Upper</th>\n",
        "      <th>Outlier</th>\n",
        "    </tr>\n",
        "    <tr>\n",
        "      <th>State</th>\n",
        "      <th>StatusDate</th>\n",
        "      <th></th>\n",
        "      <th></th>\n",
        "      <th></th>\n",
        "      <th></th>\n",
        "    </tr>\n",
        "  </thead>\n",
        "  <tbody>\n",
        "    <tr>\n",
        "      <th rowspan=\"5\" valign=\"top\">FL</th>\n",
        "      <th>2009-01-12</th>\n",
        "      <td>901</td>\n",
        "      <td>450.5</td>\n",
        "      <td>1351.5</td>\n",
        "      <td>False</td>\n",
        "    </tr>\n",
        "    <tr>\n",
        "      <th>2009-02-02</th>\n",
        "      <td>653</td>\n",
        "      <td>326.5</td>\n",
        "      <td>979.5</td>\n",
        "      <td>False</td>\n",
        "    </tr>\n",
        "    <tr>\n",
        "      <th>2009-03-23</th>\n",
        "      <td>752</td>\n",
        "      <td>376.0</td>\n",
        "      <td>1128.0</td>\n",
        "      <td>False</td>\n",
        "    </tr>\n",
        "    <tr>\n",
        "      <th>2009-04-06</th>\n",
        "      <td>1086</td>\n",
        "      <td>543.0</td>\n",
        "      <td>1629.0</td>\n",
        "      <td>False</td>\n",
        "    </tr>\n",
        "    <tr>\n",
        "      <th>2009-06-08</th>\n",
        "      <td>649</td>\n",
        "      <td>324.5</td>\n",
        "      <td>973.5</td>\n",
        "      <td>False</td>\n",
        "    </tr>\n",
        "  </tbody>\n",
        "</table>\n",
        "</div>"
       ],
       "metadata": {},
       "output_type": "pyout",
       "prompt_number": 243,
       "text": [
        "                  CustomerCount  Lower   Upper Outlier\n",
        "State StatusDate                                      \n",
        "FL    2009-01-12            901  450.5  1351.5   False\n",
        "      2009-02-02            653  326.5   979.5   False\n",
        "      2009-03-23            752  376.0  1128.0   False\n",
        "      2009-04-06           1086  543.0  1629.0   False\n",
        "      2009-06-08            649  324.5   973.5   False"
       ]
      }
     ],
     "prompt_number": 243
    },
    {
     "cell_type": "code",
     "collapsed": false,
     "input": [
      "# Combine all markets\n",
      "\n",
      "# Get the max customer count by Date\n",
      "ALL = pd.DataFrame(Daily['CustomerCount'].groupby(Daily.index.get_level_values(1)).sum())\n",
      "ALL.columns = ['CustomerCount'] # rename column\n",
      "\n",
      "# Group by Year and Month\n",
      "YearMonth = ALL.groupby([lambda x: x.year, lambda x: x.month])\n",
      "\n",
      "# What is the max customer count per Year and Month\n",
      "ALL['Max'] = YearMonth['CustomerCount'].transform(lambda x: x.max())\n",
      "ALL.head()"
     ],
     "language": "python",
     "metadata": {},
     "outputs": [
      {
       "html": [
        "<div style=\"max-width:1500px;overflow:auto;\">\n",
        "<table border=\"1\" class=\"dataframe\">\n",
        "  <thead>\n",
        "    <tr style=\"text-align: right;\">\n",
        "      <th></th>\n",
        "      <th>CustomerCount</th>\n",
        "      <th>Max</th>\n",
        "    </tr>\n",
        "    <tr>\n",
        "      <th>StatusDate</th>\n",
        "      <th></th>\n",
        "      <th></th>\n",
        "    </tr>\n",
        "  </thead>\n",
        "  <tbody>\n",
        "    <tr>\n",
        "      <th>2009-01-05</th>\n",
        "      <td>877</td>\n",
        "      <td>901</td>\n",
        "    </tr>\n",
        "    <tr>\n",
        "      <th>2009-01-12</th>\n",
        "      <td>901</td>\n",
        "      <td>901</td>\n",
        "    </tr>\n",
        "    <tr>\n",
        "      <th>2009-01-19</th>\n",
        "      <td>522</td>\n",
        "      <td>901</td>\n",
        "    </tr>\n",
        "    <tr>\n",
        "      <th>2009-02-02</th>\n",
        "      <td>953</td>\n",
        "      <td>953</td>\n",
        "    </tr>\n",
        "    <tr>\n",
        "      <th>2009-02-23</th>\n",
        "      <td>710</td>\n",
        "      <td>953</td>\n",
        "    </tr>\n",
        "  </tbody>\n",
        "</table>\n",
        "</div>"
       ],
       "metadata": {},
       "output_type": "pyout",
       "prompt_number": 244,
       "text": [
        "            CustomerCount  Max\n",
        "StatusDate                    \n",
        "2009-01-05            877  901\n",
        "2009-01-12            901  901\n",
        "2009-01-19            522  901\n",
        "2009-02-02            953  953\n",
        "2009-02-23            710  953"
       ]
      }
     ],
     "prompt_number": 244
    },
    {
     "cell_type": "code",
     "collapsed": false,
     "input": [
      "# The task here is to visually show if the current customer counts are meeting the goals listed below. We will call the goals BHAG (Big\n",
      "# Hairy Annual Goal).\n",
      "\n",
      "# 12/31/2011 - 1,000 customers\n",
      "# 12/31/2012 - 2,000 customers\n",
      "# 12/31/2013 - 3,000 customers\n",
      "# We will be using the date_range function to create our dates.\n",
      "\n",
      "# Definition: date_range(start=None, end=None, periods=None, freq='D', tz=None, normalize=False, name=None, closed=None)\n",
      "# Docstring: Return a fixed frequency datetime index, with day (calendar) as the default frequency\n",
      "\n",
      "# By choosing the frequency to be A, or annual, we will be able to get the three target dates from above."
     ],
     "language": "python",
     "metadata": {},
     "outputs": [],
     "prompt_number": 245
    },
    {
     "cell_type": "code",
     "collapsed": false,
     "input": [
      "pd.date_range?"
     ],
     "language": "python",
     "metadata": {},
     "outputs": [],
     "prompt_number": 246
    },
    {
     "cell_type": "code",
     "collapsed": false,
     "input": [
      "# Create the BHAG dataframe\n",
      "data = [1000,2000,3000]\n",
      "idx = pd.date_range(start='12/31/2011', end='12/31/2013', freq='A')\n",
      "BHAG = pd.DataFrame(data, index=idx, columns=['BHAG'])\n",
      "BHAG"
     ],
     "language": "python",
     "metadata": {},
     "outputs": [
      {
       "html": [
        "<div style=\"max-width:1500px;overflow:auto;\">\n",
        "<table border=\"1\" class=\"dataframe\">\n",
        "  <thead>\n",
        "    <tr style=\"text-align: right;\">\n",
        "      <th></th>\n",
        "      <th>BHAG</th>\n",
        "    </tr>\n",
        "  </thead>\n",
        "  <tbody>\n",
        "    <tr>\n",
        "      <th>2011-12-31</th>\n",
        "      <td>1000</td>\n",
        "    </tr>\n",
        "    <tr>\n",
        "      <th>2012-12-31</th>\n",
        "      <td>2000</td>\n",
        "    </tr>\n",
        "    <tr>\n",
        "      <th>2013-12-31</th>\n",
        "      <td>3000</td>\n",
        "    </tr>\n",
        "  </tbody>\n",
        "</table>\n",
        "</div>"
       ],
       "metadata": {},
       "output_type": "pyout",
       "prompt_number": 247,
       "text": [
        "            BHAG\n",
        "2011-12-31  1000\n",
        "2012-12-31  2000\n",
        "2013-12-31  3000"
       ]
      }
     ],
     "prompt_number": 247
    },
    {
     "cell_type": "code",
     "collapsed": false,
     "input": [
      "# Combine the BHAG and the ALL data set \n",
      "combined = pd.concat([ALL,BHAG], axis=0)\n",
      "combined = combined.sort_index(axis=0)\n",
      "combined.tail()"
     ],
     "language": "python",
     "metadata": {},
     "outputs": [
      {
       "html": [
        "<div style=\"max-width:1500px;overflow:auto;\">\n",
        "<table border=\"1\" class=\"dataframe\">\n",
        "  <thead>\n",
        "    <tr style=\"text-align: right;\">\n",
        "      <th></th>\n",
        "      <th>BHAG</th>\n",
        "      <th>CustomerCount</th>\n",
        "      <th>Max</th>\n",
        "    </tr>\n",
        "  </thead>\n",
        "  <tbody>\n",
        "    <tr>\n",
        "      <th>2012-11-19</th>\n",
        "      <td>NaN</td>\n",
        "      <td>136</td>\n",
        "      <td>1115</td>\n",
        "    </tr>\n",
        "    <tr>\n",
        "      <th>2012-11-26</th>\n",
        "      <td>NaN</td>\n",
        "      <td>1115</td>\n",
        "      <td>1115</td>\n",
        "    </tr>\n",
        "    <tr>\n",
        "      <th>2012-12-10</th>\n",
        "      <td>NaN</td>\n",
        "      <td>1269</td>\n",
        "      <td>1269</td>\n",
        "    </tr>\n",
        "    <tr>\n",
        "      <th>2012-12-31</th>\n",
        "      <td>2000</td>\n",
        "      <td>NaN</td>\n",
        "      <td>NaN</td>\n",
        "    </tr>\n",
        "    <tr>\n",
        "      <th>2013-12-31</th>\n",
        "      <td>3000</td>\n",
        "      <td>NaN</td>\n",
        "      <td>NaN</td>\n",
        "    </tr>\n",
        "  </tbody>\n",
        "</table>\n",
        "</div>"
       ],
       "metadata": {},
       "output_type": "pyout",
       "prompt_number": 251,
       "text": [
        "            BHAG  CustomerCount   Max\n",
        "2012-11-19   NaN            136  1115\n",
        "2012-11-26   NaN           1115  1115\n",
        "2012-12-10   NaN           1269  1269\n",
        "2012-12-31  2000            NaN   NaN\n",
        "2013-12-31  3000            NaN   NaN"
       ]
      }
     ],
     "prompt_number": 251
    },
    {
     "cell_type": "code",
     "collapsed": false,
     "input": [
      "fig, axes = plt.subplots(figsize=(12, 7))\n",
      "\n",
      "combined['BHAG'].fillna(method='pad').plot(color='green', label='BHAG')\n",
      "combined['Max'].plot(color='blue', label='All Markets')\n",
      "plt.legend(loc='best');"
     ],
     "language": "python",
     "metadata": {},
     "outputs": [
      {
       "metadata": {},
       "output_type": "display_data",
       "png": "[encoded data removed]",
       "text": [
        "<matplotlib.figure.Figure at 0x7f7dc8bc51d0>"
       ]
      }
     ],
     "prompt_number": 252
    },
    {
     "cell_type": "code",
     "collapsed": false,
     "input": [
      "# Group by Year and then get the max value per year\n",
      "Year = combined.groupby(lambda x: x.year).max()\n",
      "Year"
     ],
     "language": "python",
     "metadata": {},
     "outputs": [
      {
       "html": [
        "<div style=\"max-width:1500px;overflow:auto;\">\n",
        "<table border=\"1\" class=\"dataframe\">\n",
        "  <thead>\n",
        "    <tr style=\"text-align: right;\">\n",
        "      <th></th>\n",
        "      <th>BHAG</th>\n",
        "      <th>CustomerCount</th>\n",
        "      <th>Max</th>\n",
        "    </tr>\n",
        "  </thead>\n",
        "  <tbody>\n",
        "    <tr>\n",
        "      <th>2009</th>\n",
        "      <td>NaN</td>\n",
        "      <td>2452</td>\n",
        "      <td>2452</td>\n",
        "    </tr>\n",
        "    <tr>\n",
        "      <th>2010</th>\n",
        "      <td>NaN</td>\n",
        "      <td>2065</td>\n",
        "      <td>2065</td>\n",
        "    </tr>\n",
        "    <tr>\n",
        "      <th>2011</th>\n",
        "      <td>1000</td>\n",
        "      <td>2711</td>\n",
        "      <td>2711</td>\n",
        "    </tr>\n",
        "    <tr>\n",
        "      <th>2012</th>\n",
        "      <td>2000</td>\n",
        "      <td>2061</td>\n",
        "      <td>2061</td>\n",
        "    </tr>\n",
        "    <tr>\n",
        "      <th>2013</th>\n",
        "      <td>3000</td>\n",
        "      <td>NaN</td>\n",
        "      <td>NaN</td>\n",
        "    </tr>\n",
        "  </tbody>\n",
        "</table>\n",
        "</div>"
       ],
       "metadata": {},
       "output_type": "pyout",
       "prompt_number": 253,
       "text": [
        "      BHAG  CustomerCount   Max\n",
        "2009   NaN           2452  2452\n",
        "2010   NaN           2065  2065\n",
        "2011  1000           2711  2711\n",
        "2012  2000           2061  2061\n",
        "2013  3000            NaN   NaN"
       ]
      }
     ],
     "prompt_number": 253
    },
    {
     "cell_type": "code",
     "collapsed": false,
     "input": [
      "df.pct_change?"
     ],
     "language": "python",
     "metadata": {},
     "outputs": [],
     "prompt_number": 257
    },
    {
     "cell_type": "code",
     "collapsed": false,
     "input": [
      "# Add a column representing the percent change per year\n",
      "Year['YR_PCT_Change'] = Year['Max'].pct_change(periods=1)\n",
      "Year"
     ],
     "language": "python",
     "metadata": {},
     "outputs": [
      {
       "html": [
        "<div style=\"max-width:1500px;overflow:auto;\">\n",
        "<table border=\"1\" class=\"dataframe\">\n",
        "  <thead>\n",
        "    <tr style=\"text-align: right;\">\n",
        "      <th></th>\n",
        "      <th>BHAG</th>\n",
        "      <th>CustomerCount</th>\n",
        "      <th>Max</th>\n",
        "      <th>YR_PCT_Change</th>\n",
        "    </tr>\n",
        "  </thead>\n",
        "  <tbody>\n",
        "    <tr>\n",
        "      <th>2009</th>\n",
        "      <td>NaN</td>\n",
        "      <td>2452</td>\n",
        "      <td>2452</td>\n",
        "      <td>NaN</td>\n",
        "    </tr>\n",
        "    <tr>\n",
        "      <th>2010</th>\n",
        "      <td>NaN</td>\n",
        "      <td>2065</td>\n",
        "      <td>2065</td>\n",
        "      <td>-0.157830</td>\n",
        "    </tr>\n",
        "    <tr>\n",
        "      <th>2011</th>\n",
        "      <td>1000</td>\n",
        "      <td>2711</td>\n",
        "      <td>2711</td>\n",
        "      <td>0.312833</td>\n",
        "    </tr>\n",
        "    <tr>\n",
        "      <th>2012</th>\n",
        "      <td>2000</td>\n",
        "      <td>2061</td>\n",
        "      <td>2061</td>\n",
        "      <td>-0.239764</td>\n",
        "    </tr>\n",
        "    <tr>\n",
        "      <th>2013</th>\n",
        "      <td>3000</td>\n",
        "      <td>NaN</td>\n",
        "      <td>NaN</td>\n",
        "      <td>NaN</td>\n",
        "    </tr>\n",
        "  </tbody>\n",
        "</table>\n",
        "</div>"
       ],
       "metadata": {},
       "output_type": "pyout",
       "prompt_number": 261,
       "text": [
        "      BHAG  CustomerCount   Max  YR_PCT_Change\n",
        "2009   NaN           2452  2452            NaN\n",
        "2010   NaN           2065  2065      -0.157830\n",
        "2011  1000           2711  2711       0.312833\n",
        "2012  2000           2061  2061      -0.239764\n",
        "2013  3000            NaN   NaN            NaN"
       ]
      }
     ],
     "prompt_number": 261
    },
    {
     "cell_type": "code",
     "collapsed": false,
     "input": [
      "df.ix?"
     ],
     "language": "python",
     "metadata": {},
     "outputs": [],
     "prompt_number": 264
    },
    {
     "cell_type": "code",
     "collapsed": false,
     "input": [
      "df.loc?"
     ],
     "language": "python",
     "metadata": {},
     "outputs": [],
     "prompt_number": 268
    },
    {
     "cell_type": "code",
     "collapsed": false,
     "input": [
      "Year.ix[2012,'YR_PCT_Change']"
     ],
     "language": "python",
     "metadata": {},
     "outputs": [
      {
       "metadata": {},
       "output_type": "pyout",
       "prompt_number": 272,
       "text": [
        "-0.23976392475101438"
       ]
      }
     ],
     "prompt_number": 272
    },
    {
     "cell_type": "code",
     "collapsed": false,
     "input": [
      "Year.loc[2012,'Max']"
     ],
     "language": "python",
     "metadata": {},
     "outputs": [
      {
       "metadata": {},
       "output_type": "pyout",
       "prompt_number": 273,
       "text": [
        "2061.0"
       ]
      }
     ],
     "prompt_number": 273
    },
    {
     "cell_type": "code",
     "collapsed": false,
     "input": [
      "# To get next year's end customer count we will assume our current growth rate remains constant. We then will increase this years customer\n",
      "# count by that amount and that will be our forecast for next year.\n",
      "\n",
      "(1 + Year.ix[2012,'YR_PCT_Change']) * Year.loc[2012,'Max']"
     ],
     "language": "python",
     "metadata": {},
     "outputs": [
      {
       "metadata": {},
       "output_type": "pyout",
       "prompt_number": 274,
       "text": [
        "1566.8465510881595"
       ]
      }
     ],
     "prompt_number": 274
    },
    {
     "cell_type": "code",
     "collapsed": false,
     "input": [
      "# It appears .loc[] and .ix[] do the exact same thing in this case. Substituting one for the other yeilds the same results. "
     ],
     "language": "python",
     "metadata": {},
     "outputs": [],
     "prompt_number": 275
    },
    {
     "cell_type": "code",
     "collapsed": false,
     "input": [
      "# First Graph\n",
      "ALL['Max'].plot(figsize=(20, 5));plt.title('ALL Markets')\n",
      "\n",
      "# Last four Graphs\n",
      "fig, axes = plt.subplots(nrows=2, ncols=2, figsize=(20, 10))\n",
      "fig.subplots_adjust(hspace=1.0) ## Create space between plots\n",
      "\n",
      "Daily.loc['FL']['CustomerCount']['2012':].fillna(method='pad').plot(ax=axes[0,0])\n",
      "Daily.loc['GA']['CustomerCount']['2012':].fillna(method='pad').plot(ax=axes[0,1]) \n",
      "Daily.loc['TX']['CustomerCount']['2012':].fillna(method='pad').plot(ax=axes[1,0]) \n",
      "Daily.loc['NY']['CustomerCount']['2012':].fillna(method='pad').plot(ax=axes[1,1]) \n",
      "\n",
      "# Add titles\n",
      "axes[0,0].set_title('Florida')\n",
      "axes[0,1].set_title('Georgia')\n",
      "axes[1,0].set_title('Texas')\n",
      "axes[1,1].set_title('North East');"
     ],
     "language": "python",
     "metadata": {},
     "outputs": [
      {
       "metadata": {},
       "output_type": "display_data",
       "png": "[encoded data removed]",
       "text": [
        "<matplotlib.figure.Figure at 0x7f7dc8a070f0>"
       ]
      },
      {
       "metadata": {},
       "output_type": "display_data",
       "png": "[encoded data removed]",
       "text": [
        "<matplotlib.figure.Figure at 0x7f7dc8a078d0>"
       ]
      }
     ],
     "prompt_number": 277
    },
    {
     "cell_type": "code",
     "collapsed": false,
     "input": [],
     "language": "python",
     "metadata": {},
     "outputs": []
    }
   ],
   "metadata": {}
  }
 ]
}