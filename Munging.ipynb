{
 "metadata": {
  "name": "",
  "signature": "sha256:1f24dc0e522d7696d89f5dcf2bc6cab4a60730f51c319da0e17a0c6271585f19"
 },
 "nbformat": 3,
 "nbformat_minor": 0,
 "worksheets": [
  {
   "cells": [
    {
     "cell_type": "code",
     "collapsed": false,
     "input": [
      "%matplotlib inline\n",
      "import numpy as np\n",
      "import pandas as pd"
     ],
     "language": "python",
     "metadata": {},
     "outputs": [],
     "prompt_number": 2
    },
    {
     "cell_type": "code",
     "collapsed": false,
     "input": [
      "# Read the csv file of your choice using Pandas\n",
      "yep=pd.read_csv(\"311_data.csv\")"
     ],
     "language": "python",
     "metadata": {},
     "outputs": [],
     "prompt_number": 4
    },
    {
     "cell_type": "code",
     "collapsed": false,
     "input": [
      "# View the first few rows of the file and set the number of columns displayed. The first few and last few columns will always be \n",
      "# displayed separated by the absisca (...)  \n",
      "# Note: Using yep.head() will display the first five rows\n",
      "pd.set_option('display.max_columns', 9) \n",
      "yep.head(3)"
     ],
     "language": "python",
     "metadata": {},
     "outputs": [
      {
       "html": [
        "<div style=\"max-width:1500px;overflow:auto;\">\n",
        "<table border=\"1\" class=\"dataframe\">\n",
        "  <thead>\n",
        "    <tr style=\"text-align: right;\">\n",
        "      <th></th>\n",
        "      <th>Unique Key</th>\n",
        "      <th>Created Date</th>\n",
        "      <th>Closed Date</th>\n",
        "      <th>Agency</th>\n",
        "      <th>...</th>\n",
        "      <th>Ferry Terminal Name</th>\n",
        "      <th>Latitude</th>\n",
        "      <th>Longitude</th>\n",
        "      <th>Location</th>\n",
        "    </tr>\n",
        "  </thead>\n",
        "  <tbody>\n",
        "    <tr>\n",
        "      <th>0</th>\n",
        "      <td>26589651</td>\n",
        "      <td>10/31/13 02:08 AM</td>\n",
        "      <td>NaN</td>\n",
        "      <td>NYPD</td>\n",
        "      <td>...</td>\n",
        "      <td>NaN</td>\n",
        "      <td>40.708275</td>\n",
        "      <td>-73.791604</td>\n",
        "      <td>(40.70827532593202, -73.79160395779721)</td>\n",
        "    </tr>\n",
        "    <tr>\n",
        "      <th>1</th>\n",
        "      <td>26593698</td>\n",
        "      <td>10/31/13 02:01 AM</td>\n",
        "      <td>NaN</td>\n",
        "      <td>NYPD</td>\n",
        "      <td>...</td>\n",
        "      <td>NaN</td>\n",
        "      <td>40.721041</td>\n",
        "      <td>-73.909453</td>\n",
        "      <td>(40.721040535628305, -73.90945306791765)</td>\n",
        "    </tr>\n",
        "    <tr>\n",
        "      <th>2</th>\n",
        "      <td>26594139</td>\n",
        "      <td>10/31/13 02:00 AM</td>\n",
        "      <td>10/31/13 02:40 AM</td>\n",
        "      <td>NYPD</td>\n",
        "      <td>...</td>\n",
        "      <td>NaN</td>\n",
        "      <td>40.843330</td>\n",
        "      <td>-73.939144</td>\n",
        "      <td>(40.84332975466513, -73.93914371913482)</td>\n",
        "    </tr>\n",
        "  </tbody>\n",
        "</table>\n",
        "<p>3 rows \u00d7 52 columns</p>\n",
        "</div>"
       ],
       "metadata": {},
       "output_type": "pyout",
       "prompt_number": 7,
       "text": [
        "   Unique Key       Created Date        Closed Date Agency  \\\n",
        "0    26589651  10/31/13 02:08 AM                NaN   NYPD   \n",
        "1    26593698  10/31/13 02:01 AM                NaN   NYPD   \n",
        "2    26594139  10/31/13 02:00 AM  10/31/13 02:40 AM   NYPD   \n",
        "\n",
        "                     ...                    Ferry Terminal Name   Latitude  \\\n",
        "0                    ...                                    NaN  40.708275   \n",
        "1                    ...                                    NaN  40.721041   \n",
        "2                    ...                                    NaN  40.843330   \n",
        "\n",
        "   Longitude                                  Location  \n",
        "0 -73.791604   (40.70827532593202, -73.79160395779721)  \n",
        "1 -73.909453  (40.721040535628305, -73.90945306791765)  \n",
        "2 -73.939144   (40.84332975466513, -73.93914371913482)  \n",
        "\n",
        "[3 rows x 52 columns]"
       ]
      }
     ],
     "prompt_number": 7
    },
    {
     "cell_type": "code",
     "collapsed": false,
     "input": [
      "# Determine the number of rows and columns in the dataset (rows, columns)\n",
      "yep.shape"
     ],
     "language": "python",
     "metadata": {},
     "outputs": [
      {
       "metadata": {},
       "output_type": "pyout",
       "prompt_number": 8,
       "text": [
        "(69, 52)"
       ]
      }
     ],
     "prompt_number": 8
    },
    {
     "cell_type": "code",
     "collapsed": false,
     "input": [
      "# Find the number of rows in the dataset\n",
      "len(yep)"
     ],
     "language": "python",
     "metadata": {},
     "outputs": [
      {
       "metadata": {},
       "output_type": "pyout",
       "prompt_number": 9,
       "text": [
        "69"
       ]
      }
     ],
     "prompt_number": 9
    },
    {
     "cell_type": "code",
     "collapsed": false,
     "input": [
      "# Get the names of the columns\n",
      "yep.columns"
     ],
     "language": "python",
     "metadata": {},
     "outputs": [
      {
       "metadata": {},
       "output_type": "pyout",
       "prompt_number": 10,
       "text": [
        "Index(['Unique Key', 'Created Date', 'Closed Date', 'Agency', 'Agency Name',\n",
        "       'Complaint Type', 'Descriptor', 'Location Type', 'Incident Zip',\n",
        "       'Incident Address', 'Street Name', 'Cross Street 1', 'Cross Street 2',\n",
        "       'Intersection Street 1', 'Intersection Street 2', 'Address Type',\n",
        "       'City', 'Landmark', 'Facility Type', 'Status', 'Due Date',\n",
        "       'Resolution Action Updated Date', 'Community Board', 'Borough',\n",
        "       'X Coordinate (State Plane)', 'Y Coordinate (State Plane)',\n",
        "       'Park Facility Name', 'Park Borough', 'School Name', 'School Number',\n",
        "       'School Region', 'School Code', 'School Phone Number', 'School Address',\n",
        "       'School City', 'School State', 'School Zip', 'School Not Found',\n",
        "       'School or Citywide Complaint', 'Vehicle Type', 'Taxi Company Borough',\n",
        "       'Taxi Pick Up Location', 'Bridge Highway Name',\n",
        "       'Bridge Highway Direction', 'Road Ramp', 'Bridge Highway Segment',\n",
        "       'Garage Lot Name', 'Ferry Direction', 'Ferry Terminal Name', 'Latitude',\n",
        "       'Longitude', 'Location'],\n",
        "      dtype='object')"
       ]
      }
     ],
     "prompt_number": 10
    },
    {
     "cell_type": "code",
     "collapsed": false,
     "input": [
      "# Get the first five rows of a column by name\n",
      "yep['Incident Address'][:5]"
     ],
     "language": "python",
     "metadata": {},
     "outputs": [
      {
       "metadata": {},
       "output_type": "pyout",
       "prompt_number": 12,
       "text": [
        "0    90-03 169 STREET\n",
        "1           58 AVENUE\n",
        "2       4060 BROADWAY\n",
        "3      WEST 72 STREET\n",
        "4     WEST 124 STREET\n",
        "Name: Incident Address, dtype: object"
       ]
      }
     ],
     "prompt_number": 12
    },
    {
     "cell_type": "code",
     "collapsed": false,
     "input": [
      "# Create categorical ranges for numerical data. Note that that you can specifiy the number of ranges you wish\n",
      "locationranges = pd.cut(yep['Latitude'], 14)\n",
      "locationranges[:5]"
     ],
     "language": "python",
     "metadata": {},
     "outputs": [
      {
       "metadata": {},
       "output_type": "pyout",
       "prompt_number": 20,
       "text": [
        "0    (40.704, 40.731]\n",
        "1    (40.704, 40.731]\n",
        "2    (40.838, 40.865]\n",
        "3    (40.758, 40.785]\n",
        "4    (40.785, 40.811]\n",
        "Name: Latitude, dtype: category\n",
        "Categories (14, object): [(40.517, 40.544] < (40.544, 40.571] < (40.571, 40.598] < (40.598, 40.624] ... (40.785, 40.811] < (40.811, 40.838] < (40.838, 40.865] < (40.865, 40.892]]"
       ]
      }
     ],
     "prompt_number": 20
    },
    {
     "cell_type": "code",
     "collapsed": false,
     "input": [
      "# Look at the value counts in the ranges created above\n",
      "pd.value_counts(locationranges)"
     ],
     "language": "python",
     "metadata": {},
     "outputs": [
      {
       "metadata": {},
       "output_type": "pyout",
       "prompt_number": 21,
       "text": [
        "(40.678, 40.704]    8\n",
        "(40.785, 40.811]    7\n",
        "(40.731, 40.758]    7\n",
        "(40.651, 40.678]    7\n",
        "(40.704, 40.731]    6\n",
        "(40.624, 40.651]    5\n",
        "(40.838, 40.865]    4\n",
        "(40.758, 40.785]    3\n",
        "(40.865, 40.892]    2\n",
        "(40.811, 40.838]    2\n",
        "(40.598, 40.624]    2\n",
        "(40.544, 40.571]    2\n",
        "(40.571, 40.598]    1\n",
        "(40.517, 40.544]    1\n",
        "dtype: int64"
       ]
      }
     ],
     "prompt_number": 21
    },
    {
     "cell_type": "code",
     "collapsed": false,
     "input": [
      "# Index into the first six columns of the first row (The name of the first six columns)\n",
      "yep.ix[0,0:6]"
     ],
     "language": "python",
     "metadata": {},
     "outputs": [
      {
       "metadata": {},
       "output_type": "pyout",
       "prompt_number": 22,
       "text": [
        "Unique Key                            2.65897e+07\n",
        "Created Date                    10/31/13 02:08 AM\n",
        "Closed Date                                   NaN\n",
        "Agency                                       NYPD\n",
        "Agency Name       New York City Police Department\n",
        "Complaint Type            Noise - Street/Sidewalk\n",
        "Name: 0, dtype: object"
       ]
      }
     ],
     "prompt_number": 22
    },
    {
     "cell_type": "code",
     "collapsed": false,
     "input": [
      "# Order the data by specified column. The first column of the output here is the index value (first column value) from yep\n",
      "yep['Latitude'].order()[:8]"
     ],
     "language": "python",
     "metadata": {},
     "outputs": [
      {
       "metadata": {},
       "output_type": "pyout",
       "prompt_number": 25,
       "text": [
        "29    40.517378\n",
        "25    40.553421\n",
        "30    40.553421\n",
        "36    40.581744\n",
        "24    40.607245\n",
        "43    40.616550\n",
        "14    40.626477\n",
        "17    40.632437\n",
        "Name: Latitude, dtype: float64"
       ]
      }
     ],
     "prompt_number": 25
    },
    {
     "cell_type": "code",
     "collapsed": false,
     "input": [
      "# Sort by a column and that obtain a cross-section of that data. Here we are listing the first six columns of info associated with the\n",
      "# sorted data from yep (similar to what is found above). For instance, data from the first six columns of index 29 and latitde 40.517378\n",
      "# is the first row below\n",
      "sorteddata = yep.sort(['Longitude'])\n",
      "sorteddata.ix[:,0:6].head(5)"
     ],
     "language": "python",
     "metadata": {},
     "outputs": [
      {
       "html": [
        "<div style=\"max-width:1500px;overflow:auto;\">\n",
        "<table border=\"1\" class=\"dataframe\">\n",
        "  <thead>\n",
        "    <tr style=\"text-align: right;\">\n",
        "      <th></th>\n",
        "      <th>Unique Key</th>\n",
        "      <th>Created Date</th>\n",
        "      <th>Closed Date</th>\n",
        "      <th>Agency</th>\n",
        "      <th>Agency Name</th>\n",
        "      <th>Complaint Type</th>\n",
        "    </tr>\n",
        "  </thead>\n",
        "  <tbody>\n",
        "    <tr>\n",
        "      <th>29</th>\n",
        "      <td>26589201</td>\n",
        "      <td>10/31/13 12:32 AM</td>\n",
        "      <td>NaN</td>\n",
        "      <td>DOT</td>\n",
        "      <td>Department of Transportation</td>\n",
        "      <td>Street Light Condition</td>\n",
        "    </tr>\n",
        "    <tr>\n",
        "      <th>30</th>\n",
        "      <td>26591641</td>\n",
        "      <td>10/31/13 12:31 AM</td>\n",
        "      <td>10/31/13 02:41 AM</td>\n",
        "      <td>NYPD</td>\n",
        "      <td>New York City Police Department</td>\n",
        "      <td>Blocked Driveway</td>\n",
        "    </tr>\n",
        "    <tr>\n",
        "      <th>25</th>\n",
        "      <td>26591573</td>\n",
        "      <td>10/31/13 12:35 AM</td>\n",
        "      <td>10/31/13 02:41 AM</td>\n",
        "      <td>NYPD</td>\n",
        "      <td>New York City Police Department</td>\n",
        "      <td>Noise - Street/Sidewalk</td>\n",
        "    </tr>\n",
        "    <tr>\n",
        "      <th>16</th>\n",
        "      <td>26594086</td>\n",
        "      <td>10/31/13 12:54 AM</td>\n",
        "      <td>10/31/13 02:16 AM</td>\n",
        "      <td>NYPD</td>\n",
        "      <td>New York City Police Department</td>\n",
        "      <td>Noise - Street/Sidewalk</td>\n",
        "    </tr>\n",
        "    <tr>\n",
        "      <th>24</th>\n",
        "      <td>26591892</td>\n",
        "      <td>10/31/13 12:37 AM</td>\n",
        "      <td>NaN</td>\n",
        "      <td>NYPD</td>\n",
        "      <td>New York City Police Department</td>\n",
        "      <td>Blocked Driveway</td>\n",
        "    </tr>\n",
        "  </tbody>\n",
        "</table>\n",
        "</div>"
       ],
       "metadata": {},
       "output_type": "pyout",
       "prompt_number": 28,
       "text": [
        "    Unique Key       Created Date        Closed Date Agency  \\\n",
        "29    26589201  10/31/13 12:32 AM                NaN    DOT   \n",
        "30    26591641  10/31/13 12:31 AM  10/31/13 02:41 AM   NYPD   \n",
        "25    26591573  10/31/13 12:35 AM  10/31/13 02:41 AM   NYPD   \n",
        "16    26594086  10/31/13 12:54 AM  10/31/13 02:16 AM   NYPD   \n",
        "24    26591892  10/31/13 12:37 AM                NaN   NYPD   \n",
        "\n",
        "                        Agency Name           Complaint Type  \n",
        "29     Department of Transportation   Street Light Condition  \n",
        "30  New York City Police Department         Blocked Driveway  \n",
        "25  New York City Police Department  Noise - Street/Sidewalk  \n",
        "16  New York City Police Department  Noise - Street/Sidewalk  \n",
        "24  New York City Police Department         Blocked Driveway  "
       ]
      }
     ],
     "prompt_number": 28
    },
    {
     "cell_type": "code",
     "collapsed": false,
     "input": [
      "# Obtain the first three rows and first three columns of the sorted data\n",
      "sorteddata.iloc[0:3,0:3]"
     ],
     "language": "python",
     "metadata": {},
     "outputs": [
      {
       "html": [
        "<div style=\"max-width:1500px;overflow:auto;\">\n",
        "<table border=\"1\" class=\"dataframe\">\n",
        "  <thead>\n",
        "    <tr style=\"text-align: right;\">\n",
        "      <th></th>\n",
        "      <th>Unique Key</th>\n",
        "      <th>Created Date</th>\n",
        "      <th>Closed Date</th>\n",
        "    </tr>\n",
        "  </thead>\n",
        "  <tbody>\n",
        "    <tr>\n",
        "      <th>29</th>\n",
        "      <td>26589201</td>\n",
        "      <td>10/31/13 12:32 AM</td>\n",
        "      <td>NaN</td>\n",
        "    </tr>\n",
        "    <tr>\n",
        "      <th>30</th>\n",
        "      <td>26591641</td>\n",
        "      <td>10/31/13 12:31 AM</td>\n",
        "      <td>10/31/13 02:41 AM</td>\n",
        "    </tr>\n",
        "    <tr>\n",
        "      <th>25</th>\n",
        "      <td>26591573</td>\n",
        "      <td>10/31/13 12:35 AM</td>\n",
        "      <td>10/31/13 02:41 AM</td>\n",
        "    </tr>\n",
        "  </tbody>\n",
        "</table>\n",
        "</div>"
       ],
       "metadata": {},
       "output_type": "pyout",
       "prompt_number": 29,
       "text": [
        "    Unique Key       Created Date        Closed Date\n",
        "29    26589201  10/31/13 12:32 AM                NaN\n",
        "30    26591641  10/31/13 12:31 AM  10/31/13 02:41 AM\n",
        "25    26591573  10/31/13 12:35 AM  10/31/13 02:41 AM"
       ]
      }
     ],
     "prompt_number": 29
    },
    {
     "cell_type": "code",
     "collapsed": false,
     "input": [
      "yep['Complaint Type'].value_counts()"
     ],
     "language": "python",
     "metadata": {},
     "outputs": [
      {
       "metadata": {},
       "output_type": "pyout",
       "prompt_number": 31,
       "text": [
        "Noise - Commercial          18\n",
        "Noise - Street/Sidewalk      7\n",
        "Blocked Driveway             6\n",
        "Noise - House of Worship     4\n",
        "Street Light Condition       3\n",
        "Noise - Vehicle              3\n",
        "Illegal Parking              3\n",
        "Traffic Signal Condition     2\n",
        "Rodent                       2\n",
        "Taxi Complaint               2\n",
        "Homeless Encampment          1\n",
        "Noise - Park                 1\n",
        "Harboring Bees/Wasps         1\n",
        "PLUMBING                     1\n",
        "ELECTRIC                     1\n",
        "HEATING                      1\n",
        "Broken Muni Meter            1\n",
        "Benefit Card Replacement     1\n",
        "Sanitation Condition         1\n",
        "Food Establishment           1\n",
        "Name: Complaint Type, dtype: int64"
       ]
      }
     ],
     "prompt_number": 31
    },
    {
     "cell_type": "code",
     "collapsed": false,
     "input": [
      "zip?"
     ],
     "language": "python",
     "metadata": {},
     "outputs": [],
     "prompt_number": 42
    },
    {
     "cell_type": "code",
     "collapsed": false,
     "input": [
      "# A way to obtain the datatype for every column\n",
      "list(zip(yep.columns, [type(x) for x in yep.ix[0,:]]))"
     ],
     "language": "python",
     "metadata": {},
     "outputs": [
      {
       "metadata": {},
       "output_type": "pyout",
       "prompt_number": 43,
       "text": [
        "[('Unique Key', numpy.float64),\n",
        " ('Created Date', str),\n",
        " ('Closed Date', float),\n",
        " ('Agency', str),\n",
        " ('Agency Name', str),\n",
        " ('Complaint Type', str),\n",
        " ('Descriptor', str),\n",
        " ('Location Type', str),\n",
        " ('Incident Zip', str),\n",
        " ('Incident Address', str),\n",
        " ('Street Name', str),\n",
        " ('Cross Street 1', str),\n",
        " ('Cross Street 2', str),\n",
        " ('Intersection Street 1', float),\n",
        " ('Intersection Street 2', float),\n",
        " ('Address Type', str),\n",
        " ('City', str),\n",
        " ('Landmark', numpy.float64),\n",
        " ('Facility Type', str),\n",
        " ('Status', str),\n",
        " ('Due Date', str),\n",
        " ('Resolution Action Updated Date', str),\n",
        " ('Community Board', str),\n",
        " ('Borough', str),\n",
        " ('X Coordinate (State Plane)', numpy.float64),\n",
        " ('Y Coordinate (State Plane)', numpy.float64),\n",
        " ('Park Facility Name', str),\n",
        " ('Park Borough', str),\n",
        " ('School Name', str),\n",
        " ('School Number', str),\n",
        " ('School Region', str),\n",
        " ('School Code', str),\n",
        " ('School Phone Number', str),\n",
        " ('School Address', str),\n",
        " ('School City', str),\n",
        " ('School State', str),\n",
        " ('School Zip', str),\n",
        " ('School Not Found', str),\n",
        " ('School or Citywide Complaint', numpy.float64),\n",
        " ('Vehicle Type', numpy.float64),\n",
        " ('Taxi Company Borough', numpy.float64),\n",
        " ('Taxi Pick Up Location', float),\n",
        " ('Bridge Highway Name', numpy.float64),\n",
        " ('Bridge Highway Direction', numpy.float64),\n",
        " ('Road Ramp', numpy.float64),\n",
        " ('Bridge Highway Segment', numpy.float64),\n",
        " ('Garage Lot Name', numpy.float64),\n",
        " ('Ferry Direction', numpy.float64),\n",
        " ('Ferry Terminal Name', numpy.float64),\n",
        " ('Latitude', numpy.float64),\n",
        " ('Longitude', numpy.float64),\n",
        " ('Location', str)]"
       ]
      }
     ],
     "prompt_number": 43
    },
    {
     "cell_type": "code",
     "collapsed": false,
     "input": [
      "# The Pandas way to obtain datatypes for every column. Unless it is a numpy thing, it will be listed as an object \n",
      "yep.dtypes"
     ],
     "language": "python",
     "metadata": {},
     "outputs": [
      {
       "metadata": {},
       "output_type": "pyout",
       "prompt_number": 44,
       "text": [
        "Unique Key                        float64\n",
        "Created Date                       object\n",
        "Closed Date                        object\n",
        "Agency                             object\n",
        "Agency Name                        object\n",
        "Complaint Type                     object\n",
        "Descriptor                         object\n",
        "Location Type                      object\n",
        "Incident Zip                       object\n",
        "Incident Address                   object\n",
        "Street Name                        object\n",
        "Cross Street 1                     object\n",
        "Cross Street 2                     object\n",
        "Intersection Street 1              object\n",
        "Intersection Street 2              object\n",
        "Address Type                       object\n",
        "City                               object\n",
        "Landmark                          float64\n",
        "Facility Type                      object\n",
        "Status                             object\n",
        "Due Date                           object\n",
        "Resolution Action Updated Date     object\n",
        "Community Board                    object\n",
        "Borough                            object\n",
        "X Coordinate (State Plane)        float64\n",
        "Y Coordinate (State Plane)        float64\n",
        "Park Facility Name                 object\n",
        "Park Borough                       object\n",
        "School Name                        object\n",
        "School Number                      object\n",
        "School Region                      object\n",
        "School Code                        object\n",
        "School Phone Number                object\n",
        "School Address                     object\n",
        "School City                        object\n",
        "School State                       object\n",
        "School Zip                         object\n",
        "School Not Found                   object\n",
        "School or Citywide Complaint      float64\n",
        "Vehicle Type                      float64\n",
        "Taxi Company Borough              float64\n",
        "Taxi Pick Up Location              object\n",
        "Bridge Highway Name               float64\n",
        "Bridge Highway Direction          float64\n",
        "Road Ramp                         float64\n",
        "Bridge Highway Segment            float64\n",
        "Garage Lot Name                   float64\n",
        "Ferry Direction                   float64\n",
        "Ferry Terminal Name               float64\n",
        "Latitude                          float64\n",
        "Longitude                         float64\n",
        "Location                           object\n",
        "dtype: object"
       ]
      }
     ],
     "prompt_number": 44
    },
    {
     "cell_type": "code",
     "collapsed": false,
     "input": [
      "# Get the unique values for a column by name. Remember unique() will list all of the unique values that exist for a given column. It \n",
      "# does not list all elements as they appear exactly \n",
      "yep['Descriptor'].unique()"
     ],
     "language": "python",
     "metadata": {},
     "outputs": [
      {
       "metadata": {},
       "output_type": "pyout",
       "prompt_number": 45,
       "text": [
        "array(['Loud Talking', 'Commercial Overnight Parking', 'Loud Music/Party',\n",
        "       'Car/Truck Horn', 'Condition Attracting Rodents',\n",
        "       'Banging/Pounding', 'No Access', 'Double Parked Blocking Vehicle',\n",
        "       'Engine Idling', 'Rat Sighting', 'Posted Parking Sign Violation',\n",
        "       'Street Light Out', 'Car/Truck Music', 'Partial Access',\n",
        "       'Bees/Wasps - Not a beekeper', 'Driver Complaint', nan,\n",
        "       'Controller', 'Rodents/Insects/Garbage', 'No Receipt', 'Medicaid',\n",
        "       '15 Street Cond/Dump-Out/Drop-Off', 'ELECTRIC-SUPPLY', 'BASIN/SINK',\n",
        "       'HEAT'], dtype=object)"
       ]
      }
     ],
     "prompt_number": 45
    },
    {
     "cell_type": "code",
     "collapsed": false,
     "input": [
      "# Get a count of the unique values of a column\n",
      "len(yep['Descriptor'].unique())"
     ],
     "language": "python",
     "metadata": {},
     "outputs": [
      {
       "metadata": {},
       "output_type": "pyout",
       "prompt_number": 46,
       "text": [
        "25"
       ]
      }
     ],
     "prompt_number": 46
    },
    {
     "cell_type": "code",
     "collapsed": false,
     "input": [
      "# Index into a column and get the first four rows\n",
      "yep.ix[0:3,'Incident Zip']"
     ],
     "language": "python",
     "metadata": {},
     "outputs": [
      {
       "metadata": {},
       "output_type": "pyout",
       "prompt_number": 47,
       "text": [
        "0    11432-1234\n",
        "1         11378\n",
        "2         10032\n",
        "3         10023\n",
        "Name: Incident Zip, dtype: object"
       ]
      }
     ],
     "prompt_number": 47
    },
    {
     "cell_type": "code",
     "collapsed": false,
     "input": [
      "# Obtain binary values\n",
      "yep.ix[0:9,'Location Type'] == \"Street/Sidewalk\""
     ],
     "language": "python",
     "metadata": {},
     "outputs": [
      {
       "metadata": {},
       "output_type": "pyout",
       "prompt_number": 50,
       "text": [
        "0     True\n",
        "1     True\n",
        "2    False\n",
        "3     True\n",
        "4    False\n",
        "5    False\n",
        "6     True\n",
        "7    False\n",
        "8    False\n",
        "9    False\n",
        "Name: Location Type, dtype: bool"
       ]
      }
     ],
     "prompt_number": 50
    },
    {
     "cell_type": "code",
     "collapsed": false,
     "input": [],
     "language": "python",
     "metadata": {},
     "outputs": []
    }
   ],
   "metadata": {}
  }
 ]
}